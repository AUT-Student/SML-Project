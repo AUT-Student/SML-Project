{
  "nbformat": 4,
  "nbformat_minor": 0,
  "metadata": {
    "colab": {
      "provenance": [],
      "authorship_tag": "ABX9TyNNKjpJrpT7UcgLNWrZr+nk",
      "include_colab_link": true
    },
    "kernelspec": {
      "name": "python3",
      "display_name": "Python 3"
    },
    "language_info": {
      "name": "python"
    }
  },
  "cells": [
    {
      "cell_type": "markdown",
      "metadata": {
        "id": "view-in-github",
        "colab_type": "text"
      },
      "source": [
        "<a href=\"https://colab.research.google.com/github/AUT-Student/SML-Project/blob/main/SML_Project_Q2.ipynb\" target=\"_parent\"><img src=\"https://colab.research.google.com/assets/colab-badge.svg\" alt=\"Open In Colab\"/></a>"
      ]
    },
    {
      "cell_type": "markdown",
      "source": [
        "# Libraries"
      ],
      "metadata": {
        "id": "bhNbXem9sJNV"
      }
    },
    {
      "cell_type": "code",
      "execution_count": 1,
      "metadata": {
        "id": "wzn-Ew98rLbl"
      },
      "outputs": [],
      "source": [
        "import pandas as pd\n",
        "import numpy as np\n",
        "import matplotlib.pyplot as plt"
      ]
    },
    {
      "cell_type": "code",
      "source": [
        "overall_dataset = pd.read_csv(\"/content/Overall.csv\")"
      ],
      "metadata": {
        "id": "FW4e7gwysMpc"
      },
      "execution_count": 55,
      "outputs": []
    },
    {
      "cell_type": "code",
      "source": [
        "overall_dataset[\"Return\"] = overall_dataset[\"Close\"].diff()/overall_dataset[\"Close\"]"
      ],
      "metadata": {
        "id": "U3hfq9_FsvUJ"
      },
      "execution_count": 56,
      "outputs": []
    },
    {
      "cell_type": "code",
      "source": [
        "for lag in range(1, 6):\n",
        "  autocorrelation = overall_dataset[\"Return\"].autocorr(lag=lag)\n",
        "  print(f\"Lag = {lag}, Autocorrelation = {autocorrelation}\")"
      ],
      "metadata": {
        "colab": {
          "base_uri": "https://localhost:8080/"
        },
        "id": "J-UlpmPwtBTo",
        "outputId": "1da1f752-fb92-4b0d-a2cb-075f144aadcb"
      },
      "execution_count": 7,
      "outputs": [
        {
          "output_type": "stream",
          "name": "stdout",
          "text": [
            "Lag = 1, Autocorrelation = 0.3420962070256291\n",
            "Lag = 2, Autocorrelation = 0.026094104901236134\n",
            "Lag = 3, Autocorrelation = 0.06856595465315196\n",
            "Lag = 4, Autocorrelation = -0.008159864385430154\n",
            "Lag = 5, Autocorrelation = -0.029116582025897918\n"
          ]
        }
      ]
    },
    {
      "cell_type": "code",
      "execution_count": 8,
      "metadata": {
        "colab": {
          "base_uri": "https://localhost:8080/"
        },
        "id": "IxxQueF10txs",
        "outputId": "7dc9b5e3-0612-41a0-b862-4b9117bf74e7"
      },
      "outputs": [
        {
          "output_type": "stream",
          "name": "stdout",
          "text": [
            "Downloading...\n",
            "From: https://drive.google.com/uc?id=1mFilhzDbZqb4xC6ifBLPjha1Svmqcr9X\n",
            "To: /content/SML_Project_Dataset.zip\n",
            "\r  0% 0.00/400k [00:00<?, ?B/s]\r100% 400k/400k [00:00<00:00, 79.7MB/s]\n"
          ]
        }
      ],
      "source": [
        "!gdown 1mFilhzDbZqb4xC6ifBLPjha1Svmqcr9X"
      ]
    },
    {
      "cell_type": "code",
      "execution_count": 9,
      "metadata": {
        "colab": {
          "base_uri": "https://localhost:8080/"
        },
        "id": "K9uhuosS1Fqg",
        "outputId": "194d8e3c-e8dc-4e58-9763-0910599f7261"
      },
      "outputs": [
        {
          "output_type": "stream",
          "name": "stdout",
          "text": [
            "Archive:  /content/SML_Project_Dataset.zip\n",
            "  inflating: Kekhak.csv              \n",
            "  inflating: Foolad.csv              \n",
            "  inflating: Shasta.csv              \n",
            "  inflating: Khodro.csv              \n",
            "  inflating: Atlas.csv               \n"
          ]
        }
      ],
      "source": [
        "!unzip /content/SML_Project_Dataset.zip"
      ]
    },
    {
      "cell_type": "code",
      "execution_count": 10,
      "metadata": {
        "id": "yDI1rGGf1Nav"
      },
      "outputs": [],
      "source": [
        "atlas_dataset = pd.read_csv(\"/content/Atlas.csv\")\n",
        "foolad_dataset = pd.read_csv(\"/content/Foolad.csv\")\n",
        "kekhak_dataset = pd.read_csv(\"/content/Kekhak.csv\")\n",
        "khodro_dataset = pd.read_csv(\"/content/Khodro.csv\")\n",
        "shasta_dataset = pd.read_csv(\"/content/Shasta.csv\")"
      ]
    },
    {
      "cell_type": "code",
      "source": [
        "datasets = {\n",
        "    \"Atlas\": atlas_dataset,\n",
        "    \"Foolad\": foolad_dataset,\n",
        "    \"Kekhak\": kekhak_dataset,\n",
        "    \"Khodro\": khodro_dataset,\n",
        "    \"Shasta\": shasta_dataset\n",
        "}"
      ],
      "metadata": {
        "id": "O0XWpBcQ1108"
      },
      "execution_count": 51,
      "outputs": []
    },
    {
      "cell_type": "code",
      "source": [
        "for name in datasets:\n",
        "  dataset = datasets[name]\n",
        "  dataset = dataset[(dataset[\"<DTYYYYMMDD>\"] >= 20210101) & (dataset[\"<DTYYYYMMDD>\"] <= 20221230)]\n",
        "  dataset[\"Return\"] = dataset[\"<CLOSE>\"].diff()/dataset[\"<CLOSE>\"]  \n",
        "  datasets[name] = dataset"
      ],
      "metadata": {
        "id": "Hnp-fgMs2MuB",
        "colab": {
          "base_uri": "https://localhost:8080/"
        },
        "outputId": "2ef85bfa-bcf2-4c79-b340-9b8ca21be8e4"
      },
      "execution_count": 52,
      "outputs": [
        {
          "output_type": "stream",
          "name": "stderr",
          "text": [
            "<ipython-input-52-ece0a09dd663>:4: SettingWithCopyWarning: \n",
            "A value is trying to be set on a copy of a slice from a DataFrame.\n",
            "Try using .loc[row_indexer,col_indexer] = value instead\n",
            "\n",
            "See the caveats in the documentation: https://pandas.pydata.org/pandas-docs/stable/user_guide/indexing.html#returning-a-view-versus-a-copy\n",
            "  dataset[\"Return\"] = dataset[\"<CLOSE>\"].diff()/dataset[\"<CLOSE>\"]\n"
          ]
        }
      ]
    },
    {
      "cell_type": "code",
      "source": [
        "overall_dataset[\"<DTYYYYMMDD>\"] = overall_dataset[\"Date\"].apply(lambda x:int(x[:4]+x[5:7]+x[8:10]))"
      ],
      "metadata": {
        "id": "SyEtaKDqv58N"
      },
      "execution_count": 58,
      "outputs": []
    },
    {
      "cell_type": "code",
      "source": [
        "overall_dataset = overall_dataset[[\"<DTYYYYMMDD>\", \"Return\"]]"
      ],
      "metadata": {
        "id": "ofYWlKBhv9yA"
      },
      "execution_count": 59,
      "outputs": []
    },
    {
      "cell_type": "code",
      "source": [
        "for name in datasets:\n",
        "  common_dataset = datasets[name][[\"<DTYYYYMMDD>\", \"Return\"]]\\\n",
        "                  .set_index(\"<DTYYYYMMDD>\")\\\n",
        "                  .join(overall_dataset\\\n",
        "                        .set_index(\"<DTYYYYMMDD>\"),\n",
        "                        how=\"inner\", lsuffix='_share', rsuffix='_overall')\\\n",
        "                  .dropna()\n",
        "\n",
        "  correlation = common_dataset[\"Return_share\"].corr(common_dataset[\"Return_overall\"])\n",
        "  print(f\"{name}: {correlation}\")"
      ],
      "metadata": {
        "colab": {
          "base_uri": "https://localhost:8080/"
        },
        "id": "3c9BoBXWxC0m",
        "outputId": "a6c555e7-ebe2-4186-c69d-0c7be1a52e5e"
      },
      "execution_count": 63,
      "outputs": [
        {
          "output_type": "stream",
          "name": "stdout",
          "text": [
            "Atlas: -0.15002228335029916\n",
            "Foolad: -0.18096399614198005\n",
            "Kekhak: -0.16549298220939176\n",
            "Khodro: -0.20836276640727938\n",
            "Shasta: -0.07992465007464157\n"
          ]
        }
      ]
    },
    {
      "cell_type": "code",
      "source": [
        "dolar_dataset = pd.read_csv(\"/content/Dollar.csv\")"
      ],
      "metadata": {
        "id": "BUQljhM_01OI"
      },
      "execution_count": 65,
      "outputs": []
    },
    {
      "cell_type": "code",
      "source": [
        "dolar_dataset[\"<DTYYYYMMDD>\"] = dolar_dataset[\"Date\"].apply(lambda x:int(x[:4]+x[5:7]+x[8:10]))"
      ],
      "metadata": {
        "id": "TjWWlwEA6bpS"
      },
      "execution_count": 67,
      "outputs": []
    },
    {
      "cell_type": "code",
      "source": [
        "dolar_dataset[\"Return\"] = dolar_dataset[\"Close\"].diff()/dolar_dataset[\"Close\"]"
      ],
      "metadata": {
        "id": "vxdpsmyA6dD9"
      },
      "execution_count": 68,
      "outputs": []
    },
    {
      "cell_type": "code",
      "source": [
        "dolar_dataset = dolar_dataset[[\"<DTYYYYMMDD>\", \"Return\"]]"
      ],
      "metadata": {
        "id": "RP_OAUZ-6u76"
      },
      "execution_count": 69,
      "outputs": []
    },
    {
      "cell_type": "code",
      "source": [
        "common_dataset = dolar_dataset\\\n",
        "                .set_index(\"<DTYYYYMMDD>\")\\\n",
        "                .join(overall_dataset\\\n",
        "                      .set_index(\"<DTYYYYMMDD>\"),\n",
        "                      how=\"inner\", lsuffix='_dollar', rsuffix='_overall')\\\n",
        "                .dropna()\n",
        "\n",
        "correlation = common_dataset[\"Return_dollar\"].corr(common_dataset[\"Return_overall\"])\n",
        "print(f\"Dollar: {correlation}\")"
      ],
      "metadata": {
        "colab": {
          "base_uri": "https://localhost:8080/"
        },
        "id": "Sh7MxyKC60F6",
        "outputId": "a47e6657-7357-40b0-8d56-62c47372a0bb"
      },
      "execution_count": 72,
      "outputs": [
        {
          "output_type": "stream",
          "name": "stdout",
          "text": [
            "Dollar: 0.18703521424717875\n"
          ]
        }
      ]
    },
    {
      "cell_type": "code",
      "source": [
        "gold_dataset = pd.read_csv(\"/content/Gold.csv\")"
      ],
      "metadata": {
        "id": "zpDBPp4t9m3a"
      },
      "execution_count": 74,
      "outputs": []
    },
    {
      "cell_type": "code",
      "source": [
        "gold_dataset[\"<DTYYYYMMDD>\"] = gold_dataset[\"Date\"].apply(lambda x:int(x[:4]+x[5:7]+x[8:10]))"
      ],
      "metadata": {
        "id": "6GK7Fp-v9m3b"
      },
      "execution_count": 75,
      "outputs": []
    },
    {
      "cell_type": "code",
      "source": [
        "gold_dataset[\"Return\"] = gold_dataset[\"Close\"].diff()/gold_dataset[\"Close\"]"
      ],
      "metadata": {
        "id": "jM7MWmCL9m3b"
      },
      "execution_count": 76,
      "outputs": []
    },
    {
      "cell_type": "code",
      "source": [
        "gold_dataset = gold_dataset[[\"<DTYYYYMMDD>\", \"Return\"]]"
      ],
      "metadata": {
        "id": "mKVfDtcJ9m3b"
      },
      "execution_count": 77,
      "outputs": []
    },
    {
      "cell_type": "code",
      "source": [
        "common_dataset = gold_dataset\\\n",
        "                .set_index(\"<DTYYYYMMDD>\")\\\n",
        "                .join(overall_dataset\\\n",
        "                      .set_index(\"<DTYYYYMMDD>\"),\n",
        "                      how=\"inner\", lsuffix='_gold', rsuffix='_overall')\\\n",
        "                .dropna()\n",
        "\n",
        "correlation = common_dataset[\"Return_gold\"].corr(common_dataset[\"Return_overall\"])\n",
        "print(f\"Gold: {correlation}\")"
      ],
      "metadata": {
        "colab": {
          "base_uri": "https://localhost:8080/"
        },
        "outputId": "3d917332-3adf-4112-a116-8cc278350f5e",
        "id": "vBRG234f9m3c"
      },
      "execution_count": 80,
      "outputs": [
        {
          "output_type": "stream",
          "name": "stdout",
          "text": [
            "Gold: 0.2706968021626852\n"
          ]
        }
      ]
    }
  ]
}