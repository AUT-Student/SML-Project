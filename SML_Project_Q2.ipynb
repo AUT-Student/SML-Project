{
  "nbformat": 4,
  "nbformat_minor": 0,
  "metadata": {
    "colab": {
      "provenance": [],
      "toc_visible": true,
      "authorship_tag": "ABX9TyNFGCd5EHdaQdqOf6RnhQk5",
      "include_colab_link": true
    },
    "kernelspec": {
      "name": "python3",
      "display_name": "Python 3"
    },
    "language_info": {
      "name": "python"
    }
  },
  "cells": [
    {
      "cell_type": "markdown",
      "metadata": {
        "id": "view-in-github",
        "colab_type": "text"
      },
      "source": [
        "<a href=\"https://colab.research.google.com/github/AUT-Student/SML-Project/blob/main/SML_Project_Q2.ipynb\" target=\"_parent\"><img src=\"https://colab.research.google.com/assets/colab-badge.svg\" alt=\"Open In Colab\"/></a>"
      ]
    },
    {
      "cell_type": "markdown",
      "source": [
        "<center><b>In the name of God</b></center>\n",
        "\n",
        "<b>Course</b>: Statistical Machine Learning\n",
        "<br>\n",
        "<b>Description:</b> Project | Question 2\n",
        "<br>\n",
        "<b>Developer</b>: Alireza Mazochi (400131075)"
      ],
      "metadata": {
        "id": "6QlnPO-hcdvb"
      }
    },
    {
      "cell_type": "markdown",
      "source": [
        "# Libraries"
      ],
      "metadata": {
        "id": "bhNbXem9sJNV"
      }
    },
    {
      "cell_type": "code",
      "execution_count": 1,
      "metadata": {
        "id": "wzn-Ew98rLbl"
      },
      "outputs": [],
      "source": [
        "import pandas as pd\n",
        "import numpy as np\n",
        "import matplotlib.pyplot as plt"
      ]
    },
    {
      "cell_type": "markdown",
      "source": [
        "# Dataset"
      ],
      "metadata": {
        "id": "KOiEy3DlY2nD"
      }
    },
    {
      "cell_type": "code",
      "execution_count": 2,
      "metadata": {
        "colab": {
          "base_uri": "https://localhost:8080/"
        },
        "id": "IxxQueF10txs",
        "outputId": "e96dea08-3685-456e-db86-765ae1d8f964"
      },
      "outputs": [
        {
          "output_type": "stream",
          "name": "stdout",
          "text": [
            "Downloading...\n",
            "From: https://drive.google.com/uc?id=1mFilhzDbZqb4xC6ifBLPjha1Svmqcr9X\n",
            "To: /content/SML_Project_Dataset.zip\n",
            "\r  0% 0.00/436k [00:00<?, ?B/s]\r100% 436k/436k [00:00<00:00, 115MB/s]\n"
          ]
        }
      ],
      "source": [
        "!gdown 1mFilhzDbZqb4xC6ifBLPjha1Svmqcr9X"
      ]
    },
    {
      "cell_type": "code",
      "execution_count": 3,
      "metadata": {
        "colab": {
          "base_uri": "https://localhost:8080/"
        },
        "id": "K9uhuosS1Fqg",
        "outputId": "76762125-fe9b-4f71-885c-612ce5f89566"
      },
      "outputs": [
        {
          "output_type": "stream",
          "name": "stdout",
          "text": [
            "Archive:  /content/SML_Project_Dataset.zip\n",
            "  inflating: Gold.csv                \n",
            "  inflating: Kekhak.csv              \n",
            "  inflating: Khodro.csv              \n",
            "  inflating: Overall.csv             \n",
            "  inflating: Shasta.csv              \n",
            "  inflating: Atlas.csv               \n",
            "  inflating: Dollar.csv              \n",
            "  inflating: Foolad.csv              \n"
          ]
        }
      ],
      "source": [
        "!unzip /content/SML_Project_Dataset.zip"
      ]
    },
    {
      "cell_type": "code",
      "source": [
        "overall_dataset = pd.read_csv(\"/content/Overall.csv\")\n",
        "dolar_dataset = pd.read_csv(\"/content/Dollar.csv\")\n",
        "gold_dataset = pd.read_csv(\"/content/Gold.csv\")"
      ],
      "metadata": {
        "id": "FW4e7gwysMpc"
      },
      "execution_count": 4,
      "outputs": []
    },
    {
      "cell_type": "code",
      "source": [
        "overall_dataset[\"<DTYYYYMMDD>\"] = overall_dataset[\"Date\"].apply(lambda x:int(x[:4]+x[5:7]+x[8:10]))\n",
        "dolar_dataset[\"<DTYYYYMMDD>\"] = dolar_dataset[\"Date\"].apply(lambda x:int(x[:4]+x[5:7]+x[8:10]))\n",
        "gold_dataset[\"<DTYYYYMMDD>\"] = gold_dataset[\"Date\"].apply(lambda x:int(x[:4]+x[5:7]+x[8:10]))"
      ],
      "metadata": {
        "id": "mIhA-IMOZtiD"
      },
      "execution_count": 6,
      "outputs": []
    },
    {
      "cell_type": "code",
      "execution_count": 7,
      "metadata": {
        "id": "yDI1rGGf1Nav"
      },
      "outputs": [],
      "source": [
        "atlas_dataset = pd.read_csv(\"/content/Atlas.csv\").sort_values(\"<DTYYYYMMDD>\")\n",
        "foolad_dataset = pd.read_csv(\"/content/Foolad.csv\").sort_values(\"<DTYYYYMMDD>\")\n",
        "kekhak_dataset = pd.read_csv(\"/content/Kekhak.csv\").sort_values(\"<DTYYYYMMDD>\")\n",
        "khodro_dataset = pd.read_csv(\"/content/Khodro.csv\").sort_values(\"<DTYYYYMMDD>\")\n",
        "shasta_dataset = pd.read_csv(\"/content/Shasta.csv\").sort_values(\"<DTYYYYMMDD>\")"
      ]
    },
    {
      "cell_type": "code",
      "source": [
        "datasets = {\n",
        "    \"Atlas\": atlas_dataset,\n",
        "    \"Foolad\": foolad_dataset,\n",
        "    \"Kekhak\": kekhak_dataset,\n",
        "    \"Khodro\": khodro_dataset,\n",
        "    \"Shasta\": shasta_dataset\n",
        "}"
      ],
      "metadata": {
        "id": "O0XWpBcQ1108"
      },
      "execution_count": 8,
      "outputs": []
    },
    {
      "cell_type": "markdown",
      "source": [
        "# Return"
      ],
      "metadata": {
        "id": "mHDItAsaZFh3"
      }
    },
    {
      "cell_type": "code",
      "source": [
        "overall_dataset[\"Return\"] = overall_dataset[\"Close\"].diff()/overall_dataset[\"Close\"]\n",
        "dolar_dataset[\"Return\"] = dolar_dataset[\"Close\"].diff()/dolar_dataset[\"Close\"]\n",
        "gold_dataset[\"Return\"] = gold_dataset[\"Close\"].diff()/gold_dataset[\"Close\"]"
      ],
      "metadata": {
        "id": "U3hfq9_FsvUJ"
      },
      "execution_count": 9,
      "outputs": []
    },
    {
      "cell_type": "code",
      "source": [
        "overall_dataset = overall_dataset[[\"<DTYYYYMMDD>\", \"Return\"]]\n",
        "dolar_dataset = dolar_dataset[[\"<DTYYYYMMDD>\", \"Return\"]]\n",
        "gold_dataset = gold_dataset[[\"<DTYYYYMMDD>\", \"Return\"]]"
      ],
      "metadata": {
        "id": "lhlXX18qaUiS"
      },
      "execution_count": 10,
      "outputs": []
    },
    {
      "cell_type": "code",
      "source": [
        "for name in datasets:\n",
        "  dataset = datasets[name]\n",
        "  dataset = dataset[(dataset[\"<DTYYYYMMDD>\"] >= 20210101) & (dataset[\"<DTYYYYMMDD>\"] <= 20221230)]\n",
        "  dataset[\"Return\"] = dataset[\"<CLOSE>\"].diff()/dataset[\"<CLOSE>\"]  \n",
        "  datasets[name] = dataset"
      ],
      "metadata": {
        "id": "Hnp-fgMs2MuB",
        "colab": {
          "base_uri": "https://localhost:8080/"
        },
        "outputId": "378c5833-1c0f-4b66-991f-ccf036110ee9"
      },
      "execution_count": 11,
      "outputs": [
        {
          "output_type": "stream",
          "name": "stderr",
          "text": [
            "<ipython-input-11-ece0a09dd663>:4: SettingWithCopyWarning: \n",
            "A value is trying to be set on a copy of a slice from a DataFrame.\n",
            "Try using .loc[row_indexer,col_indexer] = value instead\n",
            "\n",
            "See the caveats in the documentation: https://pandas.pydata.org/pandas-docs/stable/user_guide/indexing.html#returning-a-view-versus-a-copy\n",
            "  dataset[\"Return\"] = dataset[\"<CLOSE>\"].diff()/dataset[\"<CLOSE>\"]\n"
          ]
        }
      ]
    },
    {
      "cell_type": "markdown",
      "source": [
        "# Autocorrelation"
      ],
      "metadata": {
        "id": "6wqevx4SZNBQ"
      }
    },
    {
      "cell_type": "code",
      "source": [
        "for lag in range(1, 6):\n",
        "  autocorrelation = overall_dataset[\"Return\"].autocorr(lag=lag)\n",
        "  print(f\"Lag = {lag}, Autocorrelation = {autocorrelation}\")"
      ],
      "metadata": {
        "colab": {
          "base_uri": "https://localhost:8080/"
        },
        "id": "J-UlpmPwtBTo",
        "outputId": "42912040-2862-4106-a7fe-1dfa15fa0be9"
      },
      "execution_count": 12,
      "outputs": [
        {
          "output_type": "stream",
          "name": "stdout",
          "text": [
            "Lag = 1, Autocorrelation = 0.3420962070256291\n",
            "Lag = 2, Autocorrelation = 0.026094104901236134\n",
            "Lag = 3, Autocorrelation = 0.06856595465315196\n",
            "Lag = 4, Autocorrelation = -0.008159864385430154\n",
            "Lag = 5, Autocorrelation = -0.029116582025897918\n"
          ]
        }
      ]
    },
    {
      "cell_type": "markdown",
      "source": [
        "# Correlation"
      ],
      "metadata": {
        "id": "XL-t0ojHZWpI"
      }
    },
    {
      "cell_type": "code",
      "source": [
        "# Corrlation with stock shares\n",
        "for name in datasets:\n",
        "  common_dataset = datasets[name][[\"<DTYYYYMMDD>\", \"Return\"]]\\\n",
        "                  .set_index(\"<DTYYYYMMDD>\")\\\n",
        "                  .join(overall_dataset\\\n",
        "                        .set_index(\"<DTYYYYMMDD>\"),\n",
        "                        how=\"inner\", lsuffix='_share', rsuffix='_overall')\\\n",
        "                  .dropna()\n",
        "\n",
        "  correlation = common_dataset[\"Return_share\"].corr(common_dataset[\"Return_overall\"])\n",
        "  print(f\"{name}: {correlation}\")"
      ],
      "metadata": {
        "colab": {
          "base_uri": "https://localhost:8080/"
        },
        "id": "3c9BoBXWxC0m",
        "outputId": "01f07ace-1ba2-4f91-f9d1-bbd128270b83"
      },
      "execution_count": 13,
      "outputs": [
        {
          "output_type": "stream",
          "name": "stdout",
          "text": [
            "Atlas: 0.85945676743588\n",
            "Foolad: 0.3087456241782305\n",
            "Kekhak: 0.14459757499068746\n",
            "Khodro: 0.6678754557875755\n",
            "Shasta: 0.03573243689880025\n"
          ]
        }
      ]
    },
    {
      "cell_type": "code",
      "source": [
        "# Correlation with Dollar\n",
        "common_dataset = dolar_dataset\\\n",
        "                .set_index(\"<DTYYYYMMDD>\")\\\n",
        "                .join(overall_dataset\\\n",
        "                      .set_index(\"<DTYYYYMMDD>\"),\n",
        "                      how=\"inner\", lsuffix='_dollar', rsuffix='_overall')\\\n",
        "                .dropna()\n",
        "\n",
        "correlation = common_dataset[\"Return_dollar\"].corr(common_dataset[\"Return_overall\"])\n",
        "print(f\"Dollar: {correlation}\")"
      ],
      "metadata": {
        "colab": {
          "base_uri": "https://localhost:8080/"
        },
        "id": "Sh7MxyKC60F6",
        "outputId": "13e32611-454d-4441-a93d-d93f3c6823e6"
      },
      "execution_count": 14,
      "outputs": [
        {
          "output_type": "stream",
          "name": "stdout",
          "text": [
            "Dollar: 0.18703521424717875\n"
          ]
        }
      ]
    },
    {
      "cell_type": "code",
      "source": [
        "# Correlation with Gold\n",
        "common_dataset = gold_dataset\\\n",
        "                .set_index(\"<DTYYYYMMDD>\")\\\n",
        "                .join(overall_dataset\\\n",
        "                      .set_index(\"<DTYYYYMMDD>\"),\n",
        "                      how=\"inner\", lsuffix='_gold', rsuffix='_overall')\\\n",
        "                .dropna()\n",
        "\n",
        "correlation = common_dataset[\"Return_gold\"].corr(common_dataset[\"Return_overall\"])\n",
        "print(f\"Gold: {correlation}\")"
      ],
      "metadata": {
        "colab": {
          "base_uri": "https://localhost:8080/"
        },
        "outputId": "cd131e82-9269-43b0-d81e-3b32fa5de073",
        "id": "vBRG234f9m3c"
      },
      "execution_count": 15,
      "outputs": [
        {
          "output_type": "stream",
          "name": "stdout",
          "text": [
            "Gold: 0.2706968021626852\n"
          ]
        }
      ]
    }
  ]
}