{
  "nbformat": 4,
  "nbformat_minor": 0,
  "metadata": {
    "colab": {
      "provenance": [],
      "authorship_tag": "ABX9TyO2vc9YWicO5oA8xRae76uX",
      "include_colab_link": true
    },
    "kernelspec": {
      "name": "python3",
      "display_name": "Python 3"
    },
    "language_info": {
      "name": "python"
    }
  },
  "cells": [
    {
      "cell_type": "markdown",
      "metadata": {
        "id": "view-in-github",
        "colab_type": "text"
      },
      "source": [
        "<a href=\"https://colab.research.google.com/github/AUT-Student/SML-Project/blob/main/SML_Project_Q3.ipynb\" target=\"_parent\"><img src=\"https://colab.research.google.com/assets/colab-badge.svg\" alt=\"Open In Colab\"/></a>"
      ]
    },
    {
      "cell_type": "markdown",
      "source": [
        "# Libraries"
      ],
      "metadata": {
        "id": "QKYn1GA6I53I"
      }
    },
    {
      "cell_type": "code",
      "source": [
        "import pandas as pd\n",
        "import numpy as np\n",
        "import matplotlib.pyplot as plt"
      ],
      "metadata": {
        "id": "8IQQ1MUdI5U7"
      },
      "execution_count": null,
      "outputs": []
    },
    {
      "cell_type": "markdown",
      "source": [
        "# Dataset"
      ],
      "metadata": {
        "id": "BmdH-QjSI48Q"
      }
    },
    {
      "cell_type": "code",
      "execution_count": null,
      "metadata": {
        "colab": {
          "base_uri": "https://localhost:8080/"
        },
        "id": "r6Obf_ZmI1t4",
        "outputId": "dc1b398b-795d-4ca1-ca51-34b9f295e8f9"
      },
      "outputs": [
        {
          "output_type": "stream",
          "name": "stdout",
          "text": [
            "Downloading...\n",
            "From: https://drive.google.com/uc?id=1mFilhzDbZqb4xC6ifBLPjha1Svmqcr9X\n",
            "To: /content/SML_Project_Dataset.zip\n",
            "\r  0% 0.00/436k [00:00<?, ?B/s]\r100% 436k/436k [00:00<00:00, 6.79MB/s]\n"
          ]
        }
      ],
      "source": [
        "!gdown 1mFilhzDbZqb4xC6ifBLPjha1Svmqcr9X"
      ]
    },
    {
      "cell_type": "code",
      "source": [
        "!unzip /content/SML_Project_Dataset.zip"
      ],
      "metadata": {
        "colab": {
          "base_uri": "https://localhost:8080/"
        },
        "id": "v0Y_0yCQJBY3",
        "outputId": "34b7d49b-4678-4954-be6d-3f1455743743"
      },
      "execution_count": null,
      "outputs": [
        {
          "output_type": "stream",
          "name": "stdout",
          "text": [
            "Archive:  /content/SML_Project_Dataset.zip\n",
            "  inflating: Gold.csv                \n",
            "  inflating: Kekhak.csv              \n",
            "  inflating: Khodro.csv              \n",
            "  inflating: Overall.csv             \n",
            "  inflating: Shasta.csv              \n",
            "  inflating: Atlas.csv               \n",
            "  inflating: Dollar.csv              \n",
            "  inflating: Foolad.csv              \n"
          ]
        }
      ]
    },
    {
      "cell_type": "code",
      "source": [
        "overall_dataset = pd.read_csv(\"/content/Overall.csv\")\n",
        "overall_dataset[\"<DTYYYYMMDD>\"] = overall_dataset[\"Date\"].apply(lambda x:int(x[:4]+x[5:7]+x[8:10]))\n",
        "overall_dataset[\"Return\"] = overall_dataset[\"Close\"].diff()/overall_dataset[\"Close\"]"
      ],
      "metadata": {
        "id": "nr7vyGa-L3px"
      },
      "execution_count": null,
      "outputs": []
    },
    {
      "cell_type": "code",
      "source": [
        "overall_dataset"
      ],
      "metadata": {
        "id": "zllDfRx1L9-Q",
        "outputId": "ef76ce23-351c-4adf-8e2e-0e8558e30fad",
        "colab": {
          "base_uri": "https://localhost:8080/",
          "height": 424
        }
      },
      "execution_count": null,
      "outputs": [
        {
          "output_type": "execute_result",
          "data": {
            "text/plain": [
              "         J-Date        Date       Open       High        Low      Close  \\\n",
              "0    1399-10-13  2021-01-02  1389700.0  1389700.0  1354110.0  1354114.0   \n",
              "1    1399-10-14  2021-01-03  1347700.0  1357900.0  1345820.0  1355475.0   \n",
              "2    1399-10-15  2021-01-04  1361540.0  1375350.0  1361540.0  1374501.0   \n",
              "3    1399-10-16  2021-01-05  1372480.0  1372480.0  1350210.0  1350211.0   \n",
              "4    1399-10-17  2021-01-06  1342160.0  1342160.0  1310450.0  1310709.0   \n",
              "..          ...         ...        ...        ...        ...        ...   \n",
              "473  1401-10-03  2022-12-24  1500750.0  1538000.0  1500750.0  1538003.0   \n",
              "474  1401-10-04  2022-12-25  1547140.0  1563560.0  1547140.0  1563567.0   \n",
              "475  1401-10-05  2022-12-26  1566820.0  1576410.0  1563160.0  1576397.0   \n",
              "476  1401-10-07  2022-12-28  1588820.0  1647310.0  1588820.0  1647314.0   \n",
              "477  1401-10-10  2022-12-31  1619840.0  1619840.0  1590490.0  1590496.0   \n",
              "\n",
              "     Adj Close       Volume  <DTYYYYMMDD>    Return  \n",
              "0    1354147.1   6065577245      20210102       NaN  \n",
              "1    1355351.2   8925080297      20210103  0.001004  \n",
              "2    1374483.2   8791746228      20210104  0.013842  \n",
              "3    1350233.2   8904611865      20210105 -0.017990  \n",
              "4    1310755.8   8503250697      20210106 -0.030138  \n",
              "..         ...          ...           ...       ...  \n",
              "473  1538003.2  10103385881      20221224  0.027179  \n",
              "474  1563567.4  10776995540      20221225  0.016350  \n",
              "475  1576396.8   9446689906      20221226  0.008139  \n",
              "476  1647314.5  15175183890      20221228  0.043050  \n",
              "477  1590495.5  13499382402      20221231 -0.035723  \n",
              "\n",
              "[478 rows x 10 columns]"
            ],
            "text/html": [
              "\n",
              "  <div id=\"df-b79b3f66-e144-4220-a307-c9a640c5f80e\">\n",
              "    <div class=\"colab-df-container\">\n",
              "      <div>\n",
              "<style scoped>\n",
              "    .dataframe tbody tr th:only-of-type {\n",
              "        vertical-align: middle;\n",
              "    }\n",
              "\n",
              "    .dataframe tbody tr th {\n",
              "        vertical-align: top;\n",
              "    }\n",
              "\n",
              "    .dataframe thead th {\n",
              "        text-align: right;\n",
              "    }\n",
              "</style>\n",
              "<table border=\"1\" class=\"dataframe\">\n",
              "  <thead>\n",
              "    <tr style=\"text-align: right;\">\n",
              "      <th></th>\n",
              "      <th>J-Date</th>\n",
              "      <th>Date</th>\n",
              "      <th>Open</th>\n",
              "      <th>High</th>\n",
              "      <th>Low</th>\n",
              "      <th>Close</th>\n",
              "      <th>Adj Close</th>\n",
              "      <th>Volume</th>\n",
              "      <th>&lt;DTYYYYMMDD&gt;</th>\n",
              "      <th>Return</th>\n",
              "    </tr>\n",
              "  </thead>\n",
              "  <tbody>\n",
              "    <tr>\n",
              "      <th>0</th>\n",
              "      <td>1399-10-13</td>\n",
              "      <td>2021-01-02</td>\n",
              "      <td>1389700.0</td>\n",
              "      <td>1389700.0</td>\n",
              "      <td>1354110.0</td>\n",
              "      <td>1354114.0</td>\n",
              "      <td>1354147.1</td>\n",
              "      <td>6065577245</td>\n",
              "      <td>20210102</td>\n",
              "      <td>NaN</td>\n",
              "    </tr>\n",
              "    <tr>\n",
              "      <th>1</th>\n",
              "      <td>1399-10-14</td>\n",
              "      <td>2021-01-03</td>\n",
              "      <td>1347700.0</td>\n",
              "      <td>1357900.0</td>\n",
              "      <td>1345820.0</td>\n",
              "      <td>1355475.0</td>\n",
              "      <td>1355351.2</td>\n",
              "      <td>8925080297</td>\n",
              "      <td>20210103</td>\n",
              "      <td>0.001004</td>\n",
              "    </tr>\n",
              "    <tr>\n",
              "      <th>2</th>\n",
              "      <td>1399-10-15</td>\n",
              "      <td>2021-01-04</td>\n",
              "      <td>1361540.0</td>\n",
              "      <td>1375350.0</td>\n",
              "      <td>1361540.0</td>\n",
              "      <td>1374501.0</td>\n",
              "      <td>1374483.2</td>\n",
              "      <td>8791746228</td>\n",
              "      <td>20210104</td>\n",
              "      <td>0.013842</td>\n",
              "    </tr>\n",
              "    <tr>\n",
              "      <th>3</th>\n",
              "      <td>1399-10-16</td>\n",
              "      <td>2021-01-05</td>\n",
              "      <td>1372480.0</td>\n",
              "      <td>1372480.0</td>\n",
              "      <td>1350210.0</td>\n",
              "      <td>1350211.0</td>\n",
              "      <td>1350233.2</td>\n",
              "      <td>8904611865</td>\n",
              "      <td>20210105</td>\n",
              "      <td>-0.017990</td>\n",
              "    </tr>\n",
              "    <tr>\n",
              "      <th>4</th>\n",
              "      <td>1399-10-17</td>\n",
              "      <td>2021-01-06</td>\n",
              "      <td>1342160.0</td>\n",
              "      <td>1342160.0</td>\n",
              "      <td>1310450.0</td>\n",
              "      <td>1310709.0</td>\n",
              "      <td>1310755.8</td>\n",
              "      <td>8503250697</td>\n",
              "      <td>20210106</td>\n",
              "      <td>-0.030138</td>\n",
              "    </tr>\n",
              "    <tr>\n",
              "      <th>...</th>\n",
              "      <td>...</td>\n",
              "      <td>...</td>\n",
              "      <td>...</td>\n",
              "      <td>...</td>\n",
              "      <td>...</td>\n",
              "      <td>...</td>\n",
              "      <td>...</td>\n",
              "      <td>...</td>\n",
              "      <td>...</td>\n",
              "      <td>...</td>\n",
              "    </tr>\n",
              "    <tr>\n",
              "      <th>473</th>\n",
              "      <td>1401-10-03</td>\n",
              "      <td>2022-12-24</td>\n",
              "      <td>1500750.0</td>\n",
              "      <td>1538000.0</td>\n",
              "      <td>1500750.0</td>\n",
              "      <td>1538003.0</td>\n",
              "      <td>1538003.2</td>\n",
              "      <td>10103385881</td>\n",
              "      <td>20221224</td>\n",
              "      <td>0.027179</td>\n",
              "    </tr>\n",
              "    <tr>\n",
              "      <th>474</th>\n",
              "      <td>1401-10-04</td>\n",
              "      <td>2022-12-25</td>\n",
              "      <td>1547140.0</td>\n",
              "      <td>1563560.0</td>\n",
              "      <td>1547140.0</td>\n",
              "      <td>1563567.0</td>\n",
              "      <td>1563567.4</td>\n",
              "      <td>10776995540</td>\n",
              "      <td>20221225</td>\n",
              "      <td>0.016350</td>\n",
              "    </tr>\n",
              "    <tr>\n",
              "      <th>475</th>\n",
              "      <td>1401-10-05</td>\n",
              "      <td>2022-12-26</td>\n",
              "      <td>1566820.0</td>\n",
              "      <td>1576410.0</td>\n",
              "      <td>1563160.0</td>\n",
              "      <td>1576397.0</td>\n",
              "      <td>1576396.8</td>\n",
              "      <td>9446689906</td>\n",
              "      <td>20221226</td>\n",
              "      <td>0.008139</td>\n",
              "    </tr>\n",
              "    <tr>\n",
              "      <th>476</th>\n",
              "      <td>1401-10-07</td>\n",
              "      <td>2022-12-28</td>\n",
              "      <td>1588820.0</td>\n",
              "      <td>1647310.0</td>\n",
              "      <td>1588820.0</td>\n",
              "      <td>1647314.0</td>\n",
              "      <td>1647314.5</td>\n",
              "      <td>15175183890</td>\n",
              "      <td>20221228</td>\n",
              "      <td>0.043050</td>\n",
              "    </tr>\n",
              "    <tr>\n",
              "      <th>477</th>\n",
              "      <td>1401-10-10</td>\n",
              "      <td>2022-12-31</td>\n",
              "      <td>1619840.0</td>\n",
              "      <td>1619840.0</td>\n",
              "      <td>1590490.0</td>\n",
              "      <td>1590496.0</td>\n",
              "      <td>1590495.5</td>\n",
              "      <td>13499382402</td>\n",
              "      <td>20221231</td>\n",
              "      <td>-0.035723</td>\n",
              "    </tr>\n",
              "  </tbody>\n",
              "</table>\n",
              "<p>478 rows × 10 columns</p>\n",
              "</div>\n",
              "      <button class=\"colab-df-convert\" onclick=\"convertToInteractive('df-b79b3f66-e144-4220-a307-c9a640c5f80e')\"\n",
              "              title=\"Convert this dataframe to an interactive table.\"\n",
              "              style=\"display:none;\">\n",
              "        \n",
              "  <svg xmlns=\"http://www.w3.org/2000/svg\" height=\"24px\"viewBox=\"0 0 24 24\"\n",
              "       width=\"24px\">\n",
              "    <path d=\"M0 0h24v24H0V0z\" fill=\"none\"/>\n",
              "    <path d=\"M18.56 5.44l.94 2.06.94-2.06 2.06-.94-2.06-.94-.94-2.06-.94 2.06-2.06.94zm-11 1L8.5 8.5l.94-2.06 2.06-.94-2.06-.94L8.5 2.5l-.94 2.06-2.06.94zm10 10l.94 2.06.94-2.06 2.06-.94-2.06-.94-.94-2.06-.94 2.06-2.06.94z\"/><path d=\"M17.41 7.96l-1.37-1.37c-.4-.4-.92-.59-1.43-.59-.52 0-1.04.2-1.43.59L10.3 9.45l-7.72 7.72c-.78.78-.78 2.05 0 2.83L4 21.41c.39.39.9.59 1.41.59.51 0 1.02-.2 1.41-.59l7.78-7.78 2.81-2.81c.8-.78.8-2.07 0-2.86zM5.41 20L4 18.59l7.72-7.72 1.47 1.35L5.41 20z\"/>\n",
              "  </svg>\n",
              "      </button>\n",
              "      \n",
              "  <style>\n",
              "    .colab-df-container {\n",
              "      display:flex;\n",
              "      flex-wrap:wrap;\n",
              "      gap: 12px;\n",
              "    }\n",
              "\n",
              "    .colab-df-convert {\n",
              "      background-color: #E8F0FE;\n",
              "      border: none;\n",
              "      border-radius: 50%;\n",
              "      cursor: pointer;\n",
              "      display: none;\n",
              "      fill: #1967D2;\n",
              "      height: 32px;\n",
              "      padding: 0 0 0 0;\n",
              "      width: 32px;\n",
              "    }\n",
              "\n",
              "    .colab-df-convert:hover {\n",
              "      background-color: #E2EBFA;\n",
              "      box-shadow: 0px 1px 2px rgba(60, 64, 67, 0.3), 0px 1px 3px 1px rgba(60, 64, 67, 0.15);\n",
              "      fill: #174EA6;\n",
              "    }\n",
              "\n",
              "    [theme=dark] .colab-df-convert {\n",
              "      background-color: #3B4455;\n",
              "      fill: #D2E3FC;\n",
              "    }\n",
              "\n",
              "    [theme=dark] .colab-df-convert:hover {\n",
              "      background-color: #434B5C;\n",
              "      box-shadow: 0px 1px 3px 1px rgba(0, 0, 0, 0.15);\n",
              "      filter: drop-shadow(0px 1px 2px rgba(0, 0, 0, 0.3));\n",
              "      fill: #FFFFFF;\n",
              "    }\n",
              "  </style>\n",
              "\n",
              "      <script>\n",
              "        const buttonEl =\n",
              "          document.querySelector('#df-b79b3f66-e144-4220-a307-c9a640c5f80e button.colab-df-convert');\n",
              "        buttonEl.style.display =\n",
              "          google.colab.kernel.accessAllowed ? 'block' : 'none';\n",
              "\n",
              "        async function convertToInteractive(key) {\n",
              "          const element = document.querySelector('#df-b79b3f66-e144-4220-a307-c9a640c5f80e');\n",
              "          const dataTable =\n",
              "            await google.colab.kernel.invokeFunction('convertToInteractive',\n",
              "                                                     [key], {});\n",
              "          if (!dataTable) return;\n",
              "\n",
              "          const docLinkHtml = 'Like what you see? Visit the ' +\n",
              "            '<a target=\"_blank\" href=https://colab.research.google.com/notebooks/data_table.ipynb>data table notebook</a>'\n",
              "            + ' to learn more about interactive tables.';\n",
              "          element.innerHTML = '';\n",
              "          dataTable['output_type'] = 'display_data';\n",
              "          await google.colab.output.renderOutput(dataTable, element);\n",
              "          const docLink = document.createElement('div');\n",
              "          docLink.innerHTML = docLinkHtml;\n",
              "          element.appendChild(docLink);\n",
              "        }\n",
              "      </script>\n",
              "    </div>\n",
              "  </div>\n",
              "  "
            ]
          },
          "metadata": {},
          "execution_count": 5
        }
      ]
    },
    {
      "cell_type": "markdown",
      "source": [
        "# Linear Regression"
      ],
      "metadata": {
        "id": "3-tj-BYdLxnv"
      }
    },
    {
      "cell_type": "code",
      "source": [
        "def mse(real, pred):\n",
        "  return sum((real-pred)**2)"
      ],
      "metadata": {
        "id": "w4EpYJ2n8Cqw"
      },
      "execution_count": 87,
      "outputs": []
    },
    {
      "cell_type": "code",
      "source": [
        "def normal_equation(X, Y):\n",
        "  return np.linalg.inv(X.T @ X) @ X.T @ Y"
      ],
      "metadata": {
        "id": "VgqMMMb88Mi9"
      },
      "execution_count": 76,
      "outputs": []
    },
    {
      "cell_type": "markdown",
      "source": [
        "## Only One Day"
      ],
      "metadata": {
        "id": "itGDsNEJ7Mta"
      }
    },
    {
      "cell_type": "code",
      "source": [
        "dataset = overall_dataset[[\"Date\", \"Return\"]]"
      ],
      "metadata": {
        "id": "7-8g0q2Ikj9a"
      },
      "execution_count": 77,
      "outputs": []
    },
    {
      "cell_type": "code",
      "source": [
        "dataset[\"Prev-Return\"] = dataset[\"Return\"].shift(1)"
      ],
      "metadata": {
        "id": "I9AvXK9XJDHA",
        "colab": {
          "base_uri": "https://localhost:8080/"
        },
        "outputId": "6409ebb6-1409-4e9f-b69e-38db15720709"
      },
      "execution_count": 78,
      "outputs": [
        {
          "output_type": "stream",
          "name": "stderr",
          "text": [
            "<ipython-input-78-f85bb46906f7>:1: SettingWithCopyWarning: \n",
            "A value is trying to be set on a copy of a slice from a DataFrame.\n",
            "Try using .loc[row_indexer,col_indexer] = value instead\n",
            "\n",
            "See the caveats in the documentation: https://pandas.pydata.org/pandas-docs/stable/user_guide/indexing.html#returning-a-view-versus-a-copy\n",
            "  dataset[\"Prev-Return\"] = dataset[\"Return\"].shift(1)\n"
          ]
        }
      ]
    },
    {
      "cell_type": "code",
      "source": [
        "dataset.dropna(inplace=True)"
      ],
      "metadata": {
        "colab": {
          "base_uri": "https://localhost:8080/"
        },
        "id": "FH0E6LTekdUl",
        "outputId": "848e13a6-7433-4ad4-dcf2-876701e18cca"
      },
      "execution_count": 79,
      "outputs": [
        {
          "output_type": "stream",
          "name": "stderr",
          "text": [
            "/usr/local/lib/python3.8/dist-packages/pandas/util/_decorators.py:311: SettingWithCopyWarning: \n",
            "A value is trying to be set on a copy of a slice from a DataFrame\n",
            "\n",
            "See the caveats in the documentation: https://pandas.pydata.org/pandas-docs/stable/user_guide/indexing.html#returning-a-view-versus-a-copy\n",
            "  return func(*args, **kwargs)\n"
          ]
        }
      ]
    },
    {
      "cell_type": "code",
      "source": [
        "n = len(dataset)"
      ],
      "metadata": {
        "id": "4EMT567r6t_n"
      },
      "execution_count": 80,
      "outputs": []
    },
    {
      "cell_type": "code",
      "source": [
        "X = np.stack([dataset[\"Prev-Return\"].values, np.full(n, 1)], axis=-1)\n",
        "Y = dataset[\"Return\"].values"
      ],
      "metadata": {
        "id": "Q_bvcsHBk2qW"
      },
      "execution_count": 81,
      "outputs": []
    },
    {
      "cell_type": "code",
      "source": [
        "X_train, X_test = X[:int(0.8*n)], X[int(0.8*n):]\n",
        "Y_train, Y_test = Y[:int(0.8*n)], Y[int(0.8*n):]"
      ],
      "metadata": {
        "id": "DNHqc16HlPVU"
      },
      "execution_count": 82,
      "outputs": []
    },
    {
      "cell_type": "code",
      "source": [
        "beta = normal_equation(X_train, Y_train)\n",
        "Y_predicted = X_test @ beta"
      ],
      "metadata": {
        "id": "PTK9BV6cuMLI"
      },
      "execution_count": 88,
      "outputs": []
    },
    {
      "cell_type": "code",
      "source": [
        "print(f\"beta = {beta}\")"
      ],
      "metadata": {
        "colab": {
          "base_uri": "https://localhost:8080/"
        },
        "id": "AIYVqzJr9sJe",
        "outputId": "3d3746f9-3901-41bf-f34f-e777b1936bdf"
      },
      "execution_count": 89,
      "outputs": [
        {
          "output_type": "stream",
          "name": "stdout",
          "text": [
            "beta = [3.64704067e-01 6.04380566e-05]\n"
          ]
        }
      ]
    },
    {
      "cell_type": "code",
      "source": [
        "print(f\"MSE = {mse(Y_predicted, Y_test)}\")"
      ],
      "metadata": {
        "colab": {
          "base_uri": "https://localhost:8080/"
        },
        "id": "sASSC9ps5o3-",
        "outputId": "068a4b17-6045-41a0-f5ca-a9d30f22f71c"
      },
      "execution_count": 90,
      "outputs": [
        {
          "output_type": "stream",
          "name": "stdout",
          "text": [
            "MSE = 0.011668057456980668\n"
          ]
        }
      ]
    },
    {
      "cell_type": "markdown",
      "source": [
        "## 5 Days"
      ],
      "metadata": {
        "id": "TdY7jzGt6DQh"
      }
    },
    {
      "cell_type": "code",
      "source": [
        "dataset = overall_dataset[[\"Date\", \"Return\"]]"
      ],
      "metadata": {
        "id": "cfrvuXc056rn"
      },
      "execution_count": 91,
      "outputs": []
    },
    {
      "cell_type": "code",
      "source": [
        "dataset[\"Prev-1-Return\"] = dataset[\"Return\"].shift(1)\n",
        "dataset[\"Prev-2-Return\"] = dataset[\"Return\"].shift(2)\n",
        "dataset[\"Prev-3-Return\"] = dataset[\"Return\"].shift(3)\n",
        "dataset[\"Prev-4-Return\"] = dataset[\"Return\"].shift(4)\n",
        "dataset[\"Prev-5-Return\"] = dataset[\"Return\"].shift(5)"
      ],
      "metadata": {
        "colab": {
          "base_uri": "https://localhost:8080/"
        },
        "id": "7sSzcEfqmCWT",
        "outputId": "8b9a5e31-8471-40e6-ec98-5737832484c2"
      },
      "execution_count": 92,
      "outputs": [
        {
          "output_type": "stream",
          "name": "stderr",
          "text": [
            "<ipython-input-92-5324ea868e2a>:1: SettingWithCopyWarning: \n",
            "A value is trying to be set on a copy of a slice from a DataFrame.\n",
            "Try using .loc[row_indexer,col_indexer] = value instead\n",
            "\n",
            "See the caveats in the documentation: https://pandas.pydata.org/pandas-docs/stable/user_guide/indexing.html#returning-a-view-versus-a-copy\n",
            "  dataset[\"Prev-1-Return\"] = dataset[\"Return\"].shift(1)\n",
            "<ipython-input-92-5324ea868e2a>:2: SettingWithCopyWarning: \n",
            "A value is trying to be set on a copy of a slice from a DataFrame.\n",
            "Try using .loc[row_indexer,col_indexer] = value instead\n",
            "\n",
            "See the caveats in the documentation: https://pandas.pydata.org/pandas-docs/stable/user_guide/indexing.html#returning-a-view-versus-a-copy\n",
            "  dataset[\"Prev-2-Return\"] = dataset[\"Return\"].shift(2)\n",
            "<ipython-input-92-5324ea868e2a>:3: SettingWithCopyWarning: \n",
            "A value is trying to be set on a copy of a slice from a DataFrame.\n",
            "Try using .loc[row_indexer,col_indexer] = value instead\n",
            "\n",
            "See the caveats in the documentation: https://pandas.pydata.org/pandas-docs/stable/user_guide/indexing.html#returning-a-view-versus-a-copy\n",
            "  dataset[\"Prev-3-Return\"] = dataset[\"Return\"].shift(3)\n",
            "<ipython-input-92-5324ea868e2a>:4: SettingWithCopyWarning: \n",
            "A value is trying to be set on a copy of a slice from a DataFrame.\n",
            "Try using .loc[row_indexer,col_indexer] = value instead\n",
            "\n",
            "See the caveats in the documentation: https://pandas.pydata.org/pandas-docs/stable/user_guide/indexing.html#returning-a-view-versus-a-copy\n",
            "  dataset[\"Prev-4-Return\"] = dataset[\"Return\"].shift(4)\n",
            "<ipython-input-92-5324ea868e2a>:5: SettingWithCopyWarning: \n",
            "A value is trying to be set on a copy of a slice from a DataFrame.\n",
            "Try using .loc[row_indexer,col_indexer] = value instead\n",
            "\n",
            "See the caveats in the documentation: https://pandas.pydata.org/pandas-docs/stable/user_guide/indexing.html#returning-a-view-versus-a-copy\n",
            "  dataset[\"Prev-5-Return\"] = dataset[\"Return\"].shift(5)\n"
          ]
        }
      ]
    },
    {
      "cell_type": "code",
      "source": [
        "dataset.dropna(inplace=True)"
      ],
      "metadata": {
        "colab": {
          "base_uri": "https://localhost:8080/"
        },
        "id": "vRwwYGyKt56p",
        "outputId": "e27cea63-37c5-465a-e5c7-33e2d78b8177"
      },
      "execution_count": 93,
      "outputs": [
        {
          "output_type": "stream",
          "name": "stderr",
          "text": [
            "/usr/local/lib/python3.8/dist-packages/pandas/util/_decorators.py:311: SettingWithCopyWarning: \n",
            "A value is trying to be set on a copy of a slice from a DataFrame\n",
            "\n",
            "See the caveats in the documentation: https://pandas.pydata.org/pandas-docs/stable/user_guide/indexing.html#returning-a-view-versus-a-copy\n",
            "  return func(*args, **kwargs)\n"
          ]
        }
      ]
    },
    {
      "cell_type": "code",
      "source": [
        "n = len(dataset)"
      ],
      "metadata": {
        "id": "Zy3aicYC6yCg"
      },
      "execution_count": 94,
      "outputs": []
    },
    {
      "cell_type": "code",
      "source": [
        "X = np.stack([dataset[\"Prev-1-Return\"].values,\n",
        "              dataset[\"Prev-2-Return\"].values,\n",
        "              dataset[\"Prev-3-Return\"].values,\n",
        "              dataset[\"Prev-4-Return\"].values,\n",
        "              dataset[\"Prev-5-Return\"].values,\n",
        "              np.full(n, 1)], axis=-1)\n",
        "\n",
        "Y = dataset[\"Return\"].values"
      ],
      "metadata": {
        "id": "DZJfpc336yCg"
      },
      "execution_count": 95,
      "outputs": []
    },
    {
      "cell_type": "code",
      "source": [
        "X_train, X_test = X[:int(0.8*n)], X[int(0.8*n):]\n",
        "Y_train, Y_test = Y[:int(0.8*n)], Y[int(0.8*n):]"
      ],
      "metadata": {
        "id": "s5XHNWzN6yCh"
      },
      "execution_count": 96,
      "outputs": []
    },
    {
      "cell_type": "code",
      "source": [
        "beta = normal_equation(X_train, Y_train)\n",
        "Y_predicted = X_test @ beta"
      ],
      "metadata": {
        "id": "4tM_u79J6yCh"
      },
      "execution_count": 97,
      "outputs": []
    },
    {
      "cell_type": "code",
      "source": [
        "print(f\"beta = {beta}\")"
      ],
      "metadata": {
        "colab": {
          "base_uri": "https://localhost:8080/"
        },
        "outputId": "35b68b94-de32-4ae0-838d-456061b1ba93",
        "id": "Xe2LE5y0-19r"
      },
      "execution_count": 99,
      "outputs": [
        {
          "output_type": "stream",
          "name": "stdout",
          "text": [
            "beta = [ 4.56770336e-01 -2.52268650e-01  1.85632566e-01 -1.09778456e-01\n",
            "  2.29407719e-02  2.14118287e-04]\n"
          ]
        }
      ]
    },
    {
      "cell_type": "code",
      "source": [
        "print(f\"MSE = {mse(Y_predicted, Y_test)}\")"
      ],
      "metadata": {
        "colab": {
          "base_uri": "https://localhost:8080/"
        },
        "outputId": "20b9b205-ad63-448b-d6be-3cd4fc1dcae5",
        "id": "errwEXam-19t"
      },
      "execution_count": 100,
      "outputs": [
        {
          "output_type": "stream",
          "name": "stdout",
          "text": [
            "MSE = 0.01220482181345006\n"
          ]
        }
      ]
    },
    {
      "cell_type": "code",
      "source": [],
      "metadata": {
        "id": "MpITipc77JAb"
      },
      "execution_count": null,
      "outputs": []
    }
  ]
}