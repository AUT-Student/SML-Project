{
  "nbformat": 4,
  "nbformat_minor": 0,
  "metadata": {
    "colab": {
      "provenance": [],
      "toc_visible": true,
      "authorship_tag": "ABX9TyN4njkplwjqAlObzZZ0Ae28",
      "include_colab_link": true
    },
    "kernelspec": {
      "name": "python3",
      "display_name": "Python 3"
    },
    "language_info": {
      "name": "python"
    }
  },
  "cells": [
    {
      "cell_type": "markdown",
      "metadata": {
        "id": "view-in-github",
        "colab_type": "text"
      },
      "source": [
        "<a href=\"https://colab.research.google.com/github/AUT-Student/SML-Project/blob/main/SML_Project_Q3.ipynb\" target=\"_parent\"><img src=\"https://colab.research.google.com/assets/colab-badge.svg\" alt=\"Open In Colab\"/></a>"
      ]
    },
    {
      "cell_type": "markdown",
      "source": [
        "# Libraries"
      ],
      "metadata": {
        "id": "QKYn1GA6I53I"
      }
    },
    {
      "cell_type": "code",
      "source": [
        "import pandas as pd\n",
        "import numpy as np\n",
        "import matplotlib.pyplot as plt\n",
        "import scipy.stats\n",
        "from sklearn.linear_model import Lasso"
      ],
      "metadata": {
        "id": "8IQQ1MUdI5U7"
      },
      "execution_count": 51,
      "outputs": []
    },
    {
      "cell_type": "markdown",
      "source": [
        "# Dataset"
      ],
      "metadata": {
        "id": "BmdH-QjSI48Q"
      }
    },
    {
      "cell_type": "code",
      "execution_count": 2,
      "metadata": {
        "colab": {
          "base_uri": "https://localhost:8080/"
        },
        "id": "r6Obf_ZmI1t4",
        "outputId": "11684967-165e-4d57-9243-61532b60dec2"
      },
      "outputs": [
        {
          "output_type": "stream",
          "name": "stdout",
          "text": [
            "Downloading...\n",
            "From: https://drive.google.com/uc?id=1mFilhzDbZqb4xC6ifBLPjha1Svmqcr9X\n",
            "To: /content/SML_Project_Dataset.zip\n",
            "\r  0% 0.00/436k [00:00<?, ?B/s]\r100% 436k/436k [00:00<00:00, 75.9MB/s]\n"
          ]
        }
      ],
      "source": [
        "!gdown 1mFilhzDbZqb4xC6ifBLPjha1Svmqcr9X"
      ]
    },
    {
      "cell_type": "code",
      "source": [
        "!unzip /content/SML_Project_Dataset.zip"
      ],
      "metadata": {
        "colab": {
          "base_uri": "https://localhost:8080/"
        },
        "id": "v0Y_0yCQJBY3",
        "outputId": "46f64605-2bb5-4ada-cfaf-fadc3349ce29"
      },
      "execution_count": 3,
      "outputs": [
        {
          "output_type": "stream",
          "name": "stdout",
          "text": [
            "Archive:  /content/SML_Project_Dataset.zip\n",
            "  inflating: Gold.csv                \n",
            "  inflating: Kekhak.csv              \n",
            "  inflating: Khodro.csv              \n",
            "  inflating: Overall.csv             \n",
            "  inflating: Shasta.csv              \n",
            "  inflating: Atlas.csv               \n",
            "  inflating: Dollar.csv              \n",
            "  inflating: Foolad.csv              \n"
          ]
        }
      ]
    },
    {
      "cell_type": "code",
      "source": [
        "overall_dataset = pd.read_csv(\"/content/Overall.csv\")\n",
        "overall_dataset[\"<DTYYYYMMDD>\"] = overall_dataset[\"Date\"].apply(lambda x:int(x[:4]+x[5:7]+x[8:10]))\n",
        "overall_dataset[\"Return\"] = overall_dataset[\"Close\"].diff()/overall_dataset[\"Close\"]"
      ],
      "metadata": {
        "id": "nr7vyGa-L3px"
      },
      "execution_count": 4,
      "outputs": []
    },
    {
      "cell_type": "code",
      "source": [
        "gold_dataset = pd.read_csv(\"/content/Gold.csv\")\n",
        "gold_dataset[\"<DTYYYYMMDD>\"] = gold_dataset[\"Date\"].apply(lambda x:int(x[:4]+x[5:7]+x[8:10]))\n",
        "gold_dataset[\"Return\"] = gold_dataset[\"Close\"].diff()/gold_dataset[\"Close\"]"
      ],
      "metadata": {
        "id": "MAUYIh_IHfg0"
      },
      "execution_count": 5,
      "outputs": []
    },
    {
      "cell_type": "code",
      "source": [
        "atlas_dataset = pd.read_csv(\"/content/Atlas.csv\").sort_values(\"<DTYYYYMMDD>\")\n",
        "foolad_dataset = pd.read_csv(\"/content/Foolad.csv\").sort_values(\"<DTYYYYMMDD>\")\n",
        "khodro_dataset = pd.read_csv(\"/content/Khodro.csv\").sort_values(\"<DTYYYYMMDD>\")\n",
        "\n",
        "datasets = {\n",
        "    \"Atlas\": atlas_dataset,\n",
        "    \"Foolad\": foolad_dataset,\n",
        "    \"Khodro\": khodro_dataset,\n",
        "}\n",
        "\n",
        "for name in datasets:\n",
        "  dataset = datasets[name]\n",
        "  dataset = dataset[(dataset[\"<DTYYYYMMDD>\"] >= 20210101) & (dataset[\"<DTYYYYMMDD>\"] <= 20221230)]\n",
        "  dataset[\"Return\"] = dataset[\"<CLOSE>\"].diff()/dataset[\"<CLOSE>\"]  \n",
        "  datasets[name] = dataset"
      ],
      "metadata": {
        "colab": {
          "base_uri": "https://localhost:8080/"
        },
        "id": "0qMOude-GGpT",
        "outputId": "0f0e5a8f-3e73-43e9-a99a-0309e3a1e392"
      },
      "execution_count": 6,
      "outputs": [
        {
          "output_type": "stream",
          "name": "stderr",
          "text": [
            "<ipython-input-6-dc2145b19b1d>:14: SettingWithCopyWarning: \n",
            "A value is trying to be set on a copy of a slice from a DataFrame.\n",
            "Try using .loc[row_indexer,col_indexer] = value instead\n",
            "\n",
            "See the caveats in the documentation: https://pandas.pydata.org/pandas-docs/stable/user_guide/indexing.html#returning-a-view-versus-a-copy\n",
            "  dataset[\"Return\"] = dataset[\"<CLOSE>\"].diff()/dataset[\"<CLOSE>\"]\n"
          ]
        }
      ]
    },
    {
      "cell_type": "code",
      "source": [
        "ensymble_dataset = overall_dataset[[\"<DTYYYYMMDD>\", \"Return\"]].set_index(\"<DTYYYYMMDD>\")\n",
        "\n",
        "for name in datasets:\n",
        "  ensymble_dataset = datasets[name][[\"<DTYYYYMMDD>\", \"Return\"]].rename(columns={\"Return\":f\"Return_{name}\"})\\\n",
        "                  .set_index(\"<DTYYYYMMDD>\")\\\n",
        "                  .join(ensymble_dataset,\n",
        "                        how=\"inner\")\\\n",
        "                  .dropna()\n",
        "\n",
        "ensymble_dataset = gold_dataset[[\"<DTYYYYMMDD>\", \"Return\"]]\\\n",
        "                .set_index(\"<DTYYYYMMDD>\")\\\n",
        "                .join(ensymble_dataset,\n",
        "                      how=\"inner\", lsuffix='_Gold', rsuffix='_Overall')\\\n",
        "                .dropna()"
      ],
      "metadata": {
        "id": "_a1PKp4aHuAp"
      },
      "execution_count": 7,
      "outputs": []
    },
    {
      "cell_type": "markdown",
      "source": [
        "# Linear Regression"
      ],
      "metadata": {
        "id": "3-tj-BYdLxnv"
      }
    },
    {
      "cell_type": "code",
      "source": [
        "def mse(real, pred):\n",
        "  return np.mean((real-pred)**2)"
      ],
      "metadata": {
        "id": "w4EpYJ2n8Cqw"
      },
      "execution_count": 61,
      "outputs": []
    },
    {
      "cell_type": "code",
      "source": [
        "def normal_equation(X, Y):\n",
        "  return np.linalg.inv(X.T @ X) @ X.T @ Y"
      ],
      "metadata": {
        "id": "VgqMMMb88Mi9"
      },
      "execution_count": 62,
      "outputs": []
    },
    {
      "cell_type": "markdown",
      "source": [
        "## Only One Day"
      ],
      "metadata": {
        "id": "itGDsNEJ7Mta"
      }
    },
    {
      "cell_type": "code",
      "source": [
        "dataset = overall_dataset[[\"Date\", \"Return\"]]"
      ],
      "metadata": {
        "id": "7-8g0q2Ikj9a"
      },
      "execution_count": 7,
      "outputs": []
    },
    {
      "cell_type": "code",
      "source": [
        "dataset[\"Prev-Return\"] = dataset[\"Return\"].shift(1)"
      ],
      "metadata": {
        "id": "I9AvXK9XJDHA",
        "colab": {
          "base_uri": "https://localhost:8080/"
        },
        "outputId": "6fe0e95c-c1c6-4383-9b7b-75a5addc0a0c"
      },
      "execution_count": 8,
      "outputs": [
        {
          "output_type": "stream",
          "name": "stderr",
          "text": [
            "<ipython-input-8-f85bb46906f7>:1: SettingWithCopyWarning: \n",
            "A value is trying to be set on a copy of a slice from a DataFrame.\n",
            "Try using .loc[row_indexer,col_indexer] = value instead\n",
            "\n",
            "See the caveats in the documentation: https://pandas.pydata.org/pandas-docs/stable/user_guide/indexing.html#returning-a-view-versus-a-copy\n",
            "  dataset[\"Prev-Return\"] = dataset[\"Return\"].shift(1)\n"
          ]
        }
      ]
    },
    {
      "cell_type": "code",
      "source": [
        "dataset.dropna(inplace=True)"
      ],
      "metadata": {
        "colab": {
          "base_uri": "https://localhost:8080/"
        },
        "id": "FH0E6LTekdUl",
        "outputId": "0171210b-2afa-4876-c9d7-ddd2dfec4268"
      },
      "execution_count": 9,
      "outputs": [
        {
          "output_type": "stream",
          "name": "stderr",
          "text": [
            "/usr/local/lib/python3.8/dist-packages/pandas/util/_decorators.py:311: SettingWithCopyWarning: \n",
            "A value is trying to be set on a copy of a slice from a DataFrame\n",
            "\n",
            "See the caveats in the documentation: https://pandas.pydata.org/pandas-docs/stable/user_guide/indexing.html#returning-a-view-versus-a-copy\n",
            "  return func(*args, **kwargs)\n"
          ]
        }
      ]
    },
    {
      "cell_type": "code",
      "source": [
        "n = len(dataset)"
      ],
      "metadata": {
        "id": "4EMT567r6t_n"
      },
      "execution_count": 10,
      "outputs": []
    },
    {
      "cell_type": "code",
      "source": [
        "X = np.stack([dataset[\"Prev-Return\"].values, np.full(n, 1)], axis=-1)\n",
        "Y = dataset[\"Return\"].values"
      ],
      "metadata": {
        "id": "Q_bvcsHBk2qW"
      },
      "execution_count": 11,
      "outputs": []
    },
    {
      "cell_type": "code",
      "source": [
        "X_train, X_test = X[:int(0.8*n)], X[int(0.8*n):]\n",
        "Y_train, Y_test = Y[:int(0.8*n)], Y[int(0.8*n):]"
      ],
      "metadata": {
        "id": "DNHqc16HlPVU"
      },
      "execution_count": 12,
      "outputs": []
    },
    {
      "cell_type": "code",
      "source": [
        "beta = normal_equation(X_train, Y_train)\n",
        "Y_predicted = X_test @ beta"
      ],
      "metadata": {
        "id": "PTK9BV6cuMLI"
      },
      "execution_count": 13,
      "outputs": []
    },
    {
      "cell_type": "code",
      "source": [
        "print(f\"beta = {beta}\")"
      ],
      "metadata": {
        "colab": {
          "base_uri": "https://localhost:8080/"
        },
        "id": "AIYVqzJr9sJe",
        "outputId": "abb1bcff-9803-4101-f966-3eda59e229a4"
      },
      "execution_count": 14,
      "outputs": [
        {
          "output_type": "stream",
          "name": "stdout",
          "text": [
            "beta = [3.64704067e-01 6.04380566e-05]\n"
          ]
        }
      ]
    },
    {
      "cell_type": "code",
      "source": [
        "print(f\"MSE = {mse(Y_predicted, Y_test)}\")"
      ],
      "metadata": {
        "colab": {
          "base_uri": "https://localhost:8080/"
        },
        "id": "sASSC9ps5o3-",
        "outputId": "29c25e3c-90df-4ca1-b626-bbaa86ed0c90"
      },
      "execution_count": 17,
      "outputs": [
        {
          "output_type": "stream",
          "name": "stdout",
          "text": [
            "MSE = 0.00012154226517688195\n"
          ]
        }
      ]
    },
    {
      "cell_type": "code",
      "source": [
        "print(f\"MSE = {mse(np.full(len(Y_test), np.mean(Y_train)), Y_test)}\")"
      ],
      "metadata": {
        "colab": {
          "base_uri": "https://localhost:8080/"
        },
        "id": "_d-IOKicVEAU",
        "outputId": "53c365cd-5916-4f96-8b8e-63aaaa53f6df"
      },
      "execution_count": 18,
      "outputs": [
        {
          "output_type": "stream",
          "name": "stdout",
          "text": [
            "MSE = 0.00012681306672943842\n"
          ]
        }
      ]
    },
    {
      "cell_type": "markdown",
      "source": [
        "## 5 Days"
      ],
      "metadata": {
        "id": "TdY7jzGt6DQh"
      }
    },
    {
      "cell_type": "code",
      "source": [
        "dataset = overall_dataset[[\"Date\", \"Return\"]]"
      ],
      "metadata": {
        "id": "cfrvuXc056rn"
      },
      "execution_count": 19,
      "outputs": []
    },
    {
      "cell_type": "code",
      "source": [
        "dataset[\"Prev-1-Return\"] = dataset[\"Return\"].shift(1)\n",
        "dataset[\"Prev-2-Return\"] = dataset[\"Return\"].shift(2)\n",
        "dataset[\"Prev-3-Return\"] = dataset[\"Return\"].shift(3)\n",
        "dataset[\"Prev-4-Return\"] = dataset[\"Return\"].shift(4)\n",
        "dataset[\"Prev-5-Return\"] = dataset[\"Return\"].shift(5)"
      ],
      "metadata": {
        "colab": {
          "base_uri": "https://localhost:8080/"
        },
        "id": "7sSzcEfqmCWT",
        "outputId": "213bd104-1a95-4306-c12a-eba9d52b3292"
      },
      "execution_count": 20,
      "outputs": [
        {
          "output_type": "stream",
          "name": "stderr",
          "text": [
            "<ipython-input-20-5324ea868e2a>:1: SettingWithCopyWarning: \n",
            "A value is trying to be set on a copy of a slice from a DataFrame.\n",
            "Try using .loc[row_indexer,col_indexer] = value instead\n",
            "\n",
            "See the caveats in the documentation: https://pandas.pydata.org/pandas-docs/stable/user_guide/indexing.html#returning-a-view-versus-a-copy\n",
            "  dataset[\"Prev-1-Return\"] = dataset[\"Return\"].shift(1)\n",
            "<ipython-input-20-5324ea868e2a>:2: SettingWithCopyWarning: \n",
            "A value is trying to be set on a copy of a slice from a DataFrame.\n",
            "Try using .loc[row_indexer,col_indexer] = value instead\n",
            "\n",
            "See the caveats in the documentation: https://pandas.pydata.org/pandas-docs/stable/user_guide/indexing.html#returning-a-view-versus-a-copy\n",
            "  dataset[\"Prev-2-Return\"] = dataset[\"Return\"].shift(2)\n",
            "<ipython-input-20-5324ea868e2a>:3: SettingWithCopyWarning: \n",
            "A value is trying to be set on a copy of a slice from a DataFrame.\n",
            "Try using .loc[row_indexer,col_indexer] = value instead\n",
            "\n",
            "See the caveats in the documentation: https://pandas.pydata.org/pandas-docs/stable/user_guide/indexing.html#returning-a-view-versus-a-copy\n",
            "  dataset[\"Prev-3-Return\"] = dataset[\"Return\"].shift(3)\n",
            "<ipython-input-20-5324ea868e2a>:4: SettingWithCopyWarning: \n",
            "A value is trying to be set on a copy of a slice from a DataFrame.\n",
            "Try using .loc[row_indexer,col_indexer] = value instead\n",
            "\n",
            "See the caveats in the documentation: https://pandas.pydata.org/pandas-docs/stable/user_guide/indexing.html#returning-a-view-versus-a-copy\n",
            "  dataset[\"Prev-4-Return\"] = dataset[\"Return\"].shift(4)\n",
            "<ipython-input-20-5324ea868e2a>:5: SettingWithCopyWarning: \n",
            "A value is trying to be set on a copy of a slice from a DataFrame.\n",
            "Try using .loc[row_indexer,col_indexer] = value instead\n",
            "\n",
            "See the caveats in the documentation: https://pandas.pydata.org/pandas-docs/stable/user_guide/indexing.html#returning-a-view-versus-a-copy\n",
            "  dataset[\"Prev-5-Return\"] = dataset[\"Return\"].shift(5)\n"
          ]
        }
      ]
    },
    {
      "cell_type": "code",
      "source": [
        "dataset.dropna(inplace=True)"
      ],
      "metadata": {
        "id": "vRwwYGyKt56p"
      },
      "execution_count": 21,
      "outputs": []
    },
    {
      "cell_type": "code",
      "source": [
        "n = len(dataset)"
      ],
      "metadata": {
        "id": "Zy3aicYC6yCg"
      },
      "execution_count": 22,
      "outputs": []
    },
    {
      "cell_type": "code",
      "source": [
        "X = np.stack([dataset[\"Prev-1-Return\"].values,\n",
        "              dataset[\"Prev-2-Return\"].values,\n",
        "              dataset[\"Prev-3-Return\"].values,\n",
        "              dataset[\"Prev-4-Return\"].values,\n",
        "              dataset[\"Prev-5-Return\"].values,\n",
        "              np.full(n, 1)], axis=-1)\n",
        "\n",
        "Y = dataset[\"Return\"].values"
      ],
      "metadata": {
        "id": "DZJfpc336yCg"
      },
      "execution_count": 23,
      "outputs": []
    },
    {
      "cell_type": "code",
      "source": [
        "X_train, X_test = X[:int(0.8*n)], X[int(0.8*n):]\n",
        "Y_train, Y_test = Y[:int(0.8*n)], Y[int(0.8*n):]"
      ],
      "metadata": {
        "id": "s5XHNWzN6yCh"
      },
      "execution_count": 24,
      "outputs": []
    },
    {
      "cell_type": "code",
      "source": [
        "beta = normal_equation(X_train, Y_train)\n",
        "Y_predicted = X_test @ beta"
      ],
      "metadata": {
        "id": "4tM_u79J6yCh"
      },
      "execution_count": 25,
      "outputs": []
    },
    {
      "cell_type": "code",
      "source": [
        "print(f\"beta = {beta}\")"
      ],
      "metadata": {
        "colab": {
          "base_uri": "https://localhost:8080/"
        },
        "outputId": "e91bd738-efbf-418a-f5fa-31dae484f585",
        "id": "Xe2LE5y0-19r"
      },
      "execution_count": 26,
      "outputs": [
        {
          "output_type": "stream",
          "name": "stdout",
          "text": [
            "beta = [ 4.56770336e-01 -2.52268650e-01  1.85632566e-01 -1.09778456e-01\n",
            "  2.29407719e-02  2.14118287e-04]\n"
          ]
        }
      ]
    },
    {
      "cell_type": "code",
      "source": [
        "print(f\"MSE = {mse(Y_predicted, Y_test)}\")"
      ],
      "metadata": {
        "colab": {
          "base_uri": "https://localhost:8080/"
        },
        "outputId": "6e00f742-db2f-4a63-fa1c-399152a2d371",
        "id": "errwEXam-19t"
      },
      "execution_count": 27,
      "outputs": [
        {
          "output_type": "stream",
          "name": "stdout",
          "text": [
            "MSE = 0.00012847180856263225\n"
          ]
        }
      ]
    },
    {
      "cell_type": "markdown",
      "source": [
        "# Classification"
      ],
      "metadata": {
        "id": "23Dky0RDB92x"
      }
    },
    {
      "cell_type": "code",
      "source": [
        "dataset = overall_dataset[[\"Date\", \"Return\"]]"
      ],
      "metadata": {
        "id": "EsH_3x8SE6yx"
      },
      "execution_count": 8,
      "outputs": []
    },
    {
      "cell_type": "code",
      "source": [
        "dataset[\"Prev-Return\"] = dataset[\"Return\"].shift(1)"
      ],
      "metadata": {
        "colab": {
          "base_uri": "https://localhost:8080/"
        },
        "outputId": "20a76c3e-3193-482a-e700-ff910dc5ffa8",
        "id": "ygsn-nVcE6yy"
      },
      "execution_count": 9,
      "outputs": [
        {
          "output_type": "stream",
          "name": "stderr",
          "text": [
            "<ipython-input-9-f85bb46906f7>:1: SettingWithCopyWarning: \n",
            "A value is trying to be set on a copy of a slice from a DataFrame.\n",
            "Try using .loc[row_indexer,col_indexer] = value instead\n",
            "\n",
            "See the caveats in the documentation: https://pandas.pydata.org/pandas-docs/stable/user_guide/indexing.html#returning-a-view-versus-a-copy\n",
            "  dataset[\"Prev-Return\"] = dataset[\"Return\"].shift(1)\n"
          ]
        }
      ]
    },
    {
      "cell_type": "code",
      "source": [
        "dataset.dropna(inplace=True)"
      ],
      "metadata": {
        "colab": {
          "base_uri": "https://localhost:8080/"
        },
        "id": "Jx9LtxpLE7rQ",
        "outputId": "19c85367-c4cd-4944-dbd4-6fa9dc2062a9"
      },
      "execution_count": 10,
      "outputs": [
        {
          "output_type": "stream",
          "name": "stderr",
          "text": [
            "/usr/local/lib/python3.8/dist-packages/pandas/util/_decorators.py:311: SettingWithCopyWarning: \n",
            "A value is trying to be set on a copy of a slice from a DataFrame\n",
            "\n",
            "See the caveats in the documentation: https://pandas.pydata.org/pandas-docs/stable/user_guide/indexing.html#returning-a-view-versus-a-copy\n",
            "  return func(*args, **kwargs)\n"
          ]
        }
      ]
    },
    {
      "cell_type": "code",
      "source": [
        "X = dataset[\"Prev-Return\"].values\n",
        "Y = (dataset[\"Return\"] >= 0).values"
      ],
      "metadata": {
        "id": "cgk3ABvyE8jf"
      },
      "execution_count": 11,
      "outputs": []
    },
    {
      "cell_type": "code",
      "source": [
        "n = len(dataset)"
      ],
      "metadata": {
        "id": "jW1lb_ctFZOb"
      },
      "execution_count": 12,
      "outputs": []
    },
    {
      "cell_type": "code",
      "source": [
        "X_train, X_test = X[:int(0.8*n)], X[int(0.8*n):]\n",
        "Y_train, Y_test = Y[:int(0.8*n)], Y[int(0.8*n):]"
      ],
      "metadata": {
        "id": "QrnhkwU-FZOb"
      },
      "execution_count": 13,
      "outputs": []
    },
    {
      "cell_type": "code",
      "source": [
        "X_train_p = X_train[Y_train]\n",
        "X_train_n = X_train[Y_train==False]"
      ],
      "metadata": {
        "id": "u2YMr1giIq-B"
      },
      "execution_count": 14,
      "outputs": []
    },
    {
      "cell_type": "code",
      "source": [
        "normal_p_mean = np.mean(X_train_p)\n",
        "normal_p_var = np.var(X_train_p)\n",
        "print(f\"Positive Normal Params: {normal_p_mean}, {normal_p_var}\")"
      ],
      "metadata": {
        "colab": {
          "base_uri": "https://localhost:8080/"
        },
        "id": "2SgHCMaOLcQd",
        "outputId": "559f5f1e-adf6-40d5-bf86-1bd0b4927dc1"
      },
      "execution_count": 58,
      "outputs": [
        {
          "output_type": "stream",
          "name": "stdout",
          "text": [
            "Positive Normal Params: 0.003034647813411533, 0.0001554185379466679\n"
          ]
        }
      ]
    },
    {
      "cell_type": "code",
      "source": [
        "normal_n_mean = np.mean(X_train_n)\n",
        "normal_n_var = np.var(X_train_n)\n",
        "print(f\"Negative Normal Params: {normal_n_mean}, {normal_n_var}\")"
      ],
      "metadata": {
        "colab": {
          "base_uri": "https://localhost:8080/"
        },
        "id": "bXEMH-ojLiuk",
        "outputId": "dacfcf63-99b2-4e8e-a396-941e92313ebc"
      },
      "execution_count": 59,
      "outputs": [
        {
          "output_type": "stream",
          "name": "stdout",
          "text": [
            "Negative Normal Params: -0.002910032804687265, 0.00012366374694993074\n"
          ]
        }
      ]
    },
    {
      "cell_type": "code",
      "source": [
        "prior_p = len(X_train_p) / (len(X_train_p)+len(X_train_n))\n",
        "prior_n = len(X_train_n) / (len(X_train_p)+len(X_train_n))\n",
        "print(f\"#positive = {len(X_train_p)}, #negative = {len(X_train_n)}\")"
      ],
      "metadata": {
        "colab": {
          "base_uri": "https://localhost:8080/"
        },
        "id": "hmuQFXxyOCRE",
        "outputId": "1f049f59-f5a7-406e-cd5a-b2357d9d1e71"
      },
      "execution_count": 60,
      "outputs": [
        {
          "output_type": "stream",
          "name": "stdout",
          "text": [
            "#positive = 193, #negative = 187\n"
          ]
        }
      ]
    },
    {
      "cell_type": "code",
      "source": [
        "def classification(X):\n",
        "  prob_p = prior_p * scipy.stats.norm(normal_p_mean, normal_p_var).pdf(X) \n",
        "  prob_n = prior_n * scipy.stats.norm(normal_n_mean, normal_n_var).pdf(X) \n",
        "  \n",
        "  return prob_p >= prob_n"
      ],
      "metadata": {
        "id": "jxuFF_gqOi4L"
      },
      "execution_count": 61,
      "outputs": []
    },
    {
      "cell_type": "code",
      "source": [
        "Y_predicted = classification(X_test)"
      ],
      "metadata": {
        "id": "qJ2eCUwWRzIX"
      },
      "execution_count": 62,
      "outputs": []
    },
    {
      "cell_type": "code",
      "source": [
        "def accuracy(real, pred):\n",
        "  return sum(real==pred) / len(real)"
      ],
      "metadata": {
        "id": "Uf22m3diSw1-"
      },
      "execution_count": 63,
      "outputs": []
    },
    {
      "cell_type": "code",
      "source": [
        "accuracy(Y_test, Y_predicted)"
      ],
      "metadata": {
        "colab": {
          "base_uri": "https://localhost:8080/"
        },
        "id": "liiEHTbRS4Yn",
        "outputId": "071ea898-c695-42e5-ac2e-cd330fe3e40d"
      },
      "execution_count": 64,
      "outputs": [
        {
          "output_type": "execute_result",
          "data": {
            "text/plain": [
              "0.5833333333333334"
            ]
          },
          "metadata": {},
          "execution_count": 64
        }
      ]
    },
    {
      "cell_type": "code",
      "source": [
        "max(sum(Y_test), sum(Y_test==False))/len(Y_test)"
      ],
      "metadata": {
        "colab": {
          "base_uri": "https://localhost:8080/"
        },
        "id": "sk8k-JSNTAjA",
        "outputId": "bb175ee9-cfd9-46cc-f1d3-5a8f072aa726"
      },
      "execution_count": 65,
      "outputs": [
        {
          "output_type": "execute_result",
          "data": {
            "text/plain": [
              "0.53125"
            ]
          },
          "metadata": {},
          "execution_count": 65
        }
      ]
    },
    {
      "cell_type": "code",
      "source": [
        "plt.hist(X_train[Y_train], alpha=0.3, color=\"blue\", label=\"Positive\", bins=np.arange(-0.05, +0.05, 0.005))\n",
        "plt.hist(X_train[Y_train==False], alpha=0.3, color=\"red\", label=\"Negative\", bins=np.arange(-0.05, +0.05, 0.005))\n",
        "\n",
        "plt.title(\"Return Sign Based On Yesterday Return\")\n",
        "\n",
        "plt.legend()\n",
        "\n",
        "plt.gcf().set_size_inches(8, 6)\n",
        "plt.show()"
      ],
      "metadata": {
        "colab": {
          "base_uri": "https://localhost:8080/",
          "height": 390
        },
        "id": "I7KcALNLFaVz",
        "outputId": "ebade0d8-5b06-46f2-8626-a69b160be389"
      },
      "execution_count": 66,
      "outputs": [
        {
          "output_type": "display_data",
          "data": {
            "text/plain": [
              "<Figure size 576x432 with 1 Axes>"
            ],
            "image/png": "[encoded data removed]"
          },
          "metadata": {
            "needs_background": "light"
          }
        }
      ]
    },
    {
      "cell_type": "markdown",
      "source": [
        "# Ensymble Linear Regression"
      ],
      "metadata": {
        "id": "IVmjVn3QUxHN"
      }
    },
    {
      "cell_type": "code",
      "source": [
        "dataset = ensymble_dataset"
      ],
      "metadata": {
        "id": "LvYPqm9bLYRL"
      },
      "execution_count": 41,
      "outputs": []
    },
    {
      "cell_type": "code",
      "source": [
        "dataset[\"Prev_Return_Overall\"] = dataset[\"Return_Overall\"].shift(1)\n",
        "dataset[\"Prev_Return_Gold\"] = dataset[\"Return_Gold\"].shift(1)\n",
        "dataset[\"Prev_Return_Khodro\"] = dataset[\"Return_Khodro\"].shift(1)\n",
        "dataset[\"Prev_Return_Foolad\"] = dataset[\"Return_Foolad\"].shift(1)\n",
        "dataset[\"Prev_Return_Atlas\"] = dataset[\"Return_Atlas\"].shift(1)"
      ],
      "metadata": {
        "id": "8QHFMFftLYRN"
      },
      "execution_count": 42,
      "outputs": []
    },
    {
      "cell_type": "code",
      "source": [
        "dataset.dropna(inplace=True)"
      ],
      "metadata": {
        "id": "-L8l54ALLYRN"
      },
      "execution_count": 43,
      "outputs": []
    },
    {
      "cell_type": "code",
      "source": [
        "n = len(dataset)"
      ],
      "metadata": {
        "id": "oIwZTCbPLYRN"
      },
      "execution_count": 44,
      "outputs": []
    },
    {
      "cell_type": "code",
      "source": [
        "X = np.stack([dataset[\"Prev_Return_Overall\"].values,\n",
        "              dataset[\"Prev_Return_Gold\"].values,\n",
        "              dataset[\"Prev_Return_Khodro\"].values,\n",
        "              dataset[\"Prev_Return_Foolad\"].values,\n",
        "              dataset[\"Prev_Return_Atlas\"].values,\n",
        "              np.full(n, 1)], axis=-1)\n",
        "\n",
        "Y = dataset[\"Return_Overall\"].values"
      ],
      "metadata": {
        "id": "mw0i_0t8LYRN"
      },
      "execution_count": 46,
      "outputs": []
    },
    {
      "cell_type": "code",
      "source": [
        "X_train, X_test = X[:int(0.8*n)], X[int(0.8*n):]\n",
        "Y_train, Y_test = Y[:int(0.8*n)], Y[int(0.8*n):]"
      ],
      "metadata": {
        "id": "XNfA5x-qLYRN"
      },
      "execution_count": 47,
      "outputs": []
    },
    {
      "cell_type": "code",
      "source": [
        "beta = normal_equation(X_train, Y_train)\n",
        "Y_predicted = X_test @ beta"
      ],
      "metadata": {
        "id": "85GogRPbLYRO"
      },
      "execution_count": 48,
      "outputs": []
    },
    {
      "cell_type": "code",
      "source": [
        "print(f\"beta = {beta}\")"
      ],
      "metadata": {
        "colab": {
          "base_uri": "https://localhost:8080/"
        },
        "outputId": "2a6b3a9f-ec65-4175-dce1-22db0414e667",
        "id": "hDOqcTwsLYRO"
      },
      "execution_count": 49,
      "outputs": [
        {
          "output_type": "stream",
          "name": "stdout",
          "text": [
            "beta = [ 2.78867127e-01  1.10756277e-01 -1.06491391e-02  3.45701655e-03\n",
            "  3.67020112e-02  1.06598713e-04]\n"
          ]
        }
      ]
    },
    {
      "cell_type": "code",
      "source": [
        "print(f\"MSE = {mse(Y_predicted, Y_test)}\")"
      ],
      "metadata": {
        "colab": {
          "base_uri": "https://localhost:8080/"
        },
        "outputId": "d90e8a37-715c-4be0-d868-15674bf2a05e",
        "id": "1FELBHOVLYRO"
      },
      "execution_count": 50,
      "outputs": [
        {
          "output_type": "stream",
          "name": "stdout",
          "text": [
            "MSE = 9.843054010688481e-05\n"
          ]
        }
      ]
    },
    {
      "cell_type": "markdown",
      "source": [
        "# Ensymble Classification"
      ],
      "metadata": {
        "id": "2iTBEehBU2Ls"
      }
    },
    {
      "cell_type": "code",
      "source": [
        "def classification(X):\n",
        "  prob_p = prior_p * scipy.stats.multivariate_normal(normal_p_mean, normal_p_cov).pdf(X) \n",
        "  prob_n = prior_n * scipy.stats.multivariate_normal(normal_n_mean, normal_n_cov).pdf(X) \n",
        "  \n",
        "  return prob_p >= prob_n"
      ],
      "metadata": {
        "id": "vutglaeHw3RU"
      },
      "execution_count": 18,
      "outputs": []
    },
    {
      "cell_type": "code",
      "source": [
        "def accuracy(real, pred):\n",
        "  return sum(real==pred) / len(real)"
      ],
      "metadata": {
        "id": "pllJOR50w3RU"
      },
      "execution_count": 20,
      "outputs": []
    },
    {
      "cell_type": "code",
      "source": [
        "dataset = ensymble_dataset"
      ],
      "metadata": {
        "id": "HbJIj5DQPMOz"
      },
      "execution_count": 8,
      "outputs": []
    },
    {
      "cell_type": "code",
      "source": [
        "dataset[\"Prev_Return_Overall\"] = dataset[\"Return_Overall\"].shift(1)\n",
        "dataset[\"Prev_Return_Gold\"] = dataset[\"Return_Gold\"].shift(1)\n",
        "dataset[\"Prev_Return_Khodro\"] = dataset[\"Return_Khodro\"].shift(1)\n",
        "dataset[\"Prev_Return_Foolad\"] = dataset[\"Return_Foolad\"].shift(1)\n",
        "dataset[\"Prev_Return_Atlas\"] = dataset[\"Return_Atlas\"].shift(1)"
      ],
      "metadata": {
        "id": "zejibQi1PMO0"
      },
      "execution_count": 9,
      "outputs": []
    },
    {
      "cell_type": "code",
      "source": [
        "dataset.dropna(inplace=True)"
      ],
      "metadata": {
        "id": "ff54__yoPMO0"
      },
      "execution_count": 10,
      "outputs": []
    },
    {
      "cell_type": "code",
      "source": [
        "n = len(dataset)"
      ],
      "metadata": {
        "id": "gkpeUXvnPMO0"
      },
      "execution_count": 11,
      "outputs": []
    },
    {
      "cell_type": "code",
      "source": [
        "X = np.stack([dataset[\"Prev_Return_Overall\"].values]\n",
        "             , axis=-1)\n",
        "\n",
        "Y = (dataset[\"Return_Overall\"] > 0).values\n",
        "\n",
        "X_train, X_test = X[:int(0.8*n)], X[int(0.8*n):]\n",
        "Y_train, Y_test = Y[:int(0.8*n)], Y[int(0.8*n):]\n",
        "\n",
        "X_train_p = X_train[Y_train]\n",
        "X_train_n = X_train[Y_train==False]\n",
        "\n",
        "normal_p_mean = np.mean(X_train_p, axis=0)\n",
        "normal_p_cov = np.cov(X_train_p, rowvar=0)\n",
        "\n",
        "normal_n_mean = np.mean(X_train_n, axis=0)\n",
        "normal_n_cov = np.cov(X_train_n, rowvar=0)\n",
        "\n",
        "prior_p = len(X_train_p) / (len(X_train_p)+len(X_train_n))\n",
        "prior_n = len(X_train_n) / (len(X_train_p)+len(X_train_n))\n",
        "\n",
        "Y_predicted = classification(X_test)"
      ],
      "metadata": {
        "id": "3-6IAk8YPMO1"
      },
      "execution_count": 27,
      "outputs": []
    },
    {
      "cell_type": "code",
      "source": [
        "accuracy(Y_test, Y_predicted)"
      ],
      "metadata": {
        "colab": {
          "base_uri": "https://localhost:8080/"
        },
        "outputId": "4036ca37-83bb-4a3a-b9a8-d91f8929e338",
        "id": "YLpcpINdw3RV"
      },
      "execution_count": 28,
      "outputs": [
        {
          "output_type": "execute_result",
          "data": {
            "text/plain": [
              "0.6941176470588235"
            ]
          },
          "metadata": {},
          "execution_count": 28
        }
      ]
    },
    {
      "cell_type": "code",
      "source": [
        "X = np.stack([dataset[\"Prev_Return_Overall\"].values,\n",
        "              dataset[\"Prev_Return_Gold\"].values,\n",
        "              dataset[\"Prev_Return_Khodro\"].values,\n",
        "              dataset[\"Prev_Return_Foolad\"].values,\n",
        "              dataset[\"Prev_Return_Atlas\"].values,\n",
        "              ]\n",
        "             , axis=-1)\n",
        "\n",
        "Y = (dataset[\"Return_Overall\"] > 0).values\n",
        "\n",
        "X_train, X_test = X[:int(0.8*n)], X[int(0.8*n):]\n",
        "Y_train, Y_test = Y[:int(0.8*n)], Y[int(0.8*n):]\n",
        "\n",
        "X_train_p = X_train[Y_train]\n",
        "X_train_n = X_train[Y_train==False]\n",
        "\n",
        "normal_p_mean = np.mean(X_train_p, axis=0)\n",
        "normal_p_cov = np.cov(X_train_p, rowvar=0)\n",
        "\n",
        "normal_n_mean = np.mean(X_train_n, axis=0)\n",
        "normal_n_cov = np.cov(X_train_n, rowvar=0)\n",
        "\n",
        "prior_p = len(X_train_p) / (len(X_train_p)+len(X_train_n))\n",
        "prior_n = len(X_train_n) / (len(X_train_p)+len(X_train_n))\n",
        "\n",
        "Y_predicted = classification(X_test)"
      ],
      "metadata": {
        "id": "vAVYy21p5iBJ"
      },
      "execution_count": 47,
      "outputs": []
    },
    {
      "cell_type": "code",
      "source": [
        "accuracy(Y_test, Y_predicted)"
      ],
      "metadata": {
        "colab": {
          "base_uri": "https://localhost:8080/"
        },
        "outputId": "ec97c902-8f57-40bc-9a4a-96b0e5f82eea",
        "id": "cJPm33Vg5iBK"
      },
      "execution_count": 48,
      "outputs": [
        {
          "output_type": "execute_result",
          "data": {
            "text/plain": [
              "0.49411764705882355"
            ]
          },
          "metadata": {},
          "execution_count": 48
        }
      ]
    },
    {
      "cell_type": "code",
      "source": [
        "X = np.stack([dataset[\"Prev_Return_Overall\"].values,\n",
        "              dataset[\"Prev_Return_Gold\"].values,\n",
        "              dataset[\"Prev_Return_Khodro\"].values,\n",
        "              # dataset[\"Prev_Return_Foolad\"].values,\n",
        "              dataset[\"Prev_Return_Atlas\"].values,\n",
        "              ]\n",
        "             , axis=-1)\n",
        "\n",
        "Y = (dataset[\"Return_Overall\"] > 0).values\n",
        "\n",
        "X_train, X_test = X[:int(0.8*n)], X[int(0.8*n):]\n",
        "Y_train, Y_test = Y[:int(0.8*n)], Y[int(0.8*n):]\n",
        "\n",
        "X_train_p = X_train[Y_train]\n",
        "X_train_n = X_train[Y_train==False]\n",
        "\n",
        "normal_p_mean = np.mean(X_train_p, axis=0)\n",
        "normal_p_cov = np.cov(X_train_p, rowvar=0)\n",
        "\n",
        "normal_n_mean = np.mean(X_train_n, axis=0)\n",
        "normal_n_cov = np.cov(X_train_n, rowvar=0)\n",
        "\n",
        "prior_p = len(X_train_p) / (len(X_train_p)+len(X_train_n))\n",
        "prior_n = len(X_train_n) / (len(X_train_p)+len(X_train_n))\n",
        "\n",
        "Y_predicted = classification(X_test)"
      ],
      "metadata": {
        "id": "JD1FspxA6rZg"
      },
      "execution_count": 49,
      "outputs": []
    },
    {
      "cell_type": "code",
      "source": [
        "accuracy(Y_test, Y_predicted)"
      ],
      "metadata": {
        "colab": {
          "base_uri": "https://localhost:8080/"
        },
        "outputId": "87ac4366-f99e-4b08-f820-595c9ef03323",
        "id": "5ATNxFzp6rZg"
      },
      "execution_count": 50,
      "outputs": [
        {
          "output_type": "execute_result",
          "data": {
            "text/plain": [
              "0.6235294117647059"
            ]
          },
          "metadata": {},
          "execution_count": 50
        }
      ]
    },
    {
      "cell_type": "markdown",
      "source": [
        "# LASSO Regresion"
      ],
      "metadata": {
        "id": "cXuv5qdGEKI4"
      }
    },
    {
      "cell_type": "code",
      "source": [
        "dataset = overall_dataset[[\"Date\", \"Return\"]]"
      ],
      "metadata": {
        "id": "ZE3Xw-npEcoZ"
      },
      "execution_count": 64,
      "outputs": []
    },
    {
      "cell_type": "code",
      "source": [
        "for i in range(1, 11):\n",
        "  dataset[f\"Prev-{i}-Return\"] = dataset[\"Return\"].shift(i)"
      ],
      "metadata": {
        "colab": {
          "base_uri": "https://localhost:8080/"
        },
        "outputId": "f5b1da2c-26c9-4e62-b09b-a5b5fd9a6073",
        "id": "hmJiX1v_Ecoa"
      },
      "execution_count": 65,
      "outputs": [
        {
          "output_type": "stream",
          "name": "stderr",
          "text": [
            "<ipython-input-65-aab302d415a7>:2: SettingWithCopyWarning: \n",
            "A value is trying to be set on a copy of a slice from a DataFrame.\n",
            "Try using .loc[row_indexer,col_indexer] = value instead\n",
            "\n",
            "See the caveats in the documentation: https://pandas.pydata.org/pandas-docs/stable/user_guide/indexing.html#returning-a-view-versus-a-copy\n",
            "  dataset[f\"Prev-{i}-Return\"] = dataset[\"Return\"].shift(i)\n"
          ]
        }
      ]
    },
    {
      "cell_type": "code",
      "source": [
        "dataset.dropna(inplace=True)"
      ],
      "metadata": {
        "id": "G0Hsmm32Ecoa"
      },
      "execution_count": 66,
      "outputs": []
    },
    {
      "cell_type": "code",
      "source": [
        "n = len(dataset)"
      ],
      "metadata": {
        "id": "oRozX97FEcoa"
      },
      "execution_count": 68,
      "outputs": []
    },
    {
      "cell_type": "code",
      "source": [
        "X = np.stack([dataset[\"Prev-1-Return\"].values,\n",
        "              dataset[\"Prev-2-Return\"].values,\n",
        "              dataset[\"Prev-3-Return\"].values,\n",
        "              dataset[\"Prev-4-Return\"].values,\n",
        "              dataset[\"Prev-5-Return\"].values,\n",
        "              dataset[\"Prev-6-Return\"].values,\n",
        "              dataset[\"Prev-7-Return\"].values,\n",
        "              dataset[\"Prev-8-Return\"].values,\n",
        "              dataset[\"Prev-9-Return\"].values,\n",
        "              dataset[\"Prev-10-Return\"].values,\n",
        "              np.full(n, 1)], axis=-1)\n",
        "\n",
        "Y = dataset[\"Return\"].values"
      ],
      "metadata": {
        "id": "1kXNxpoDEcob"
      },
      "execution_count": 69,
      "outputs": []
    },
    {
      "cell_type": "code",
      "source": [
        "X_train, X_test = X[:int(0.8*n)], X[int(0.8*n):]\n",
        "Y_train, Y_test = Y[:int(0.8*n)], Y[int(0.8*n):]"
      ],
      "metadata": {
        "id": "oNxAhpjqEcob"
      },
      "execution_count": 70,
      "outputs": []
    },
    {
      "cell_type": "code",
      "source": [
        "for alpha in [0, 0.01, 0.1, 0.2, 0.5, 1, 2, 4, 8, 64]:\n",
        "  lasso_regression = Lasso(normalize=True, alpha=alpha)\n",
        "  lasso_regression.fit(X_train, Y_train)  \n",
        "  Y_predicted = lasso_regression.predict(X_test)\n",
        "  print(f\"Alpha = {alpha} MSE = {mse(Y_predicted, Y_test)}\")"
      ],
      "metadata": {
        "colab": {
          "base_uri": "https://localhost:8080/"
        },
        "id": "A73Ck6WUEfJf",
        "outputId": "6a61efba-2e32-49f5-81b7-9198ee07eb20"
      },
      "execution_count": 78,
      "outputs": [
        {
          "output_type": "stream",
          "name": "stdout",
          "text": [
            "Alpha = 0 MSE = 0.0001243985214808293\n",
            "Alpha = 0.01 MSE = 0.0001273466432473387\n",
            "Alpha = 0.1 MSE = 0.0001273466432473387\n",
            "Alpha = 0.2 MSE = 0.0001273466432473387\n",
            "Alpha = 0.5 MSE = 0.0001273466432473387\n",
            "Alpha = 1 MSE = 0.0001273466432473387\n",
            "Alpha = 2 MSE = 0.0001273466432473387\n",
            "Alpha = 4 MSE = 0.0001273466432473387\n",
            "Alpha = 8 MSE = 0.0001273466432473387\n",
            "Alpha = 64 MSE = 0.0001273466432473387\n"
          ]
        },
        {
          "output_type": "stream",
          "name": "stderr",
          "text": [
            "/usr/local/lib/python3.8/dist-packages/sklearn/linear_model/_base.py:141: FutureWarning: 'normalize' was deprecated in version 1.0 and will be removed in 1.2.\n",
            "If you wish to scale the data, use Pipeline with a StandardScaler in a preprocessing stage. To reproduce the previous behavior:\n",
            "\n",
            "from sklearn.pipeline import make_pipeline\n",
            "\n",
            "model = make_pipeline(StandardScaler(with_mean=False), Lasso())\n",
            "\n",
            "If you wish to pass a sample_weight parameter, you need to pass it as a fit parameter to each step of the pipeline as follows:\n",
            "\n",
            "kwargs = {s[0] + '__sample_weight': sample_weight for s in model.steps}\n",
            "model.fit(X, y, **kwargs)\n",
            "\n",
            "Set parameter alpha to: original_alpha * np.sqrt(n_samples). \n",
            "  warnings.warn(\n",
            "<ipython-input-78-7f7f6ed096d1>:3: UserWarning: With alpha=0, this algorithm does not converge well. You are advised to use the LinearRegression estimator\n",
            "  lasso_regression.fit(X_train, Y_train)\n",
            "/usr/local/lib/python3.8/dist-packages/sklearn/linear_model/_coordinate_descent.py:647: UserWarning: Coordinate descent with no regularization may lead to unexpected results and is discouraged.\n",
            "  model = cd_fast.enet_coordinate_descent(\n",
            "/usr/local/lib/python3.8/dist-packages/sklearn/linear_model/_coordinate_descent.py:647: ConvergenceWarning: Objective did not converge. You might want to increase the number of iterations, check the scale of the features or consider increasing regularisation. Duality gap: 2.114e-02, tolerance: 5.152e-06 Linear regression models with null weight for the l1 regularization term are more efficiently fitted using one of the solvers implemented in sklearn.linear_model.Ridge/RidgeCV instead.\n",
            "  model = cd_fast.enet_coordinate_descent(\n",
            "/usr/local/lib/python3.8/dist-packages/sklearn/linear_model/_base.py:141: FutureWarning: 'normalize' was deprecated in version 1.0 and will be removed in 1.2.\n",
            "If you wish to scale the data, use Pipeline with a StandardScaler in a preprocessing stage. To reproduce the previous behavior:\n",
            "\n",
            "from sklearn.pipeline import make_pipeline\n",
            "\n",
            "model = make_pipeline(StandardScaler(with_mean=False), Lasso())\n",
            "\n",
            "If you wish to pass a sample_weight parameter, you need to pass it as a fit parameter to each step of the pipeline as follows:\n",
            "\n",
            "kwargs = {s[0] + '__sample_weight': sample_weight for s in model.steps}\n",
            "model.fit(X, y, **kwargs)\n",
            "\n",
            "Set parameter alpha to: original_alpha * np.sqrt(n_samples). \n",
            "  warnings.warn(\n",
            "/usr/local/lib/python3.8/dist-packages/sklearn/linear_model/_base.py:141: FutureWarning: 'normalize' was deprecated in version 1.0 and will be removed in 1.2.\n",
            "If you wish to scale the data, use Pipeline with a StandardScaler in a preprocessing stage. To reproduce the previous behavior:\n",
            "\n",
            "from sklearn.pipeline import make_pipeline\n",
            "\n",
            "model = make_pipeline(StandardScaler(with_mean=False), Lasso())\n",
            "\n",
            "If you wish to pass a sample_weight parameter, you need to pass it as a fit parameter to each step of the pipeline as follows:\n",
            "\n",
            "kwargs = {s[0] + '__sample_weight': sample_weight for s in model.steps}\n",
            "model.fit(X, y, **kwargs)\n",
            "\n",
            "Set parameter alpha to: original_alpha * np.sqrt(n_samples). \n",
            "  warnings.warn(\n",
            "/usr/local/lib/python3.8/dist-packages/sklearn/linear_model/_base.py:141: FutureWarning: 'normalize' was deprecated in version 1.0 and will be removed in 1.2.\n",
            "If you wish to scale the data, use Pipeline with a StandardScaler in a preprocessing stage. To reproduce the previous behavior:\n",
            "\n",
            "from sklearn.pipeline import make_pipeline\n",
            "\n",
            "model = make_pipeline(StandardScaler(with_mean=False), Lasso())\n",
            "\n",
            "If you wish to pass a sample_weight parameter, you need to pass it as a fit parameter to each step of the pipeline as follows:\n",
            "\n",
            "kwargs = {s[0] + '__sample_weight': sample_weight for s in model.steps}\n",
            "model.fit(X, y, **kwargs)\n",
            "\n",
            "Set parameter alpha to: original_alpha * np.sqrt(n_samples). \n",
            "  warnings.warn(\n",
            "/usr/local/lib/python3.8/dist-packages/sklearn/linear_model/_base.py:141: FutureWarning: 'normalize' was deprecated in version 1.0 and will be removed in 1.2.\n",
            "If you wish to scale the data, use Pipeline with a StandardScaler in a preprocessing stage. To reproduce the previous behavior:\n",
            "\n",
            "from sklearn.pipeline import make_pipeline\n",
            "\n",
            "model = make_pipeline(StandardScaler(with_mean=False), Lasso())\n",
            "\n",
            "If you wish to pass a sample_weight parameter, you need to pass it as a fit parameter to each step of the pipeline as follows:\n",
            "\n",
            "kwargs = {s[0] + '__sample_weight': sample_weight for s in model.steps}\n",
            "model.fit(X, y, **kwargs)\n",
            "\n",
            "Set parameter alpha to: original_alpha * np.sqrt(n_samples). \n",
            "  warnings.warn(\n",
            "/usr/local/lib/python3.8/dist-packages/sklearn/linear_model/_base.py:141: FutureWarning: 'normalize' was deprecated in version 1.0 and will be removed in 1.2.\n",
            "If you wish to scale the data, use Pipeline with a StandardScaler in a preprocessing stage. To reproduce the previous behavior:\n",
            "\n",
            "from sklearn.pipeline import make_pipeline\n",
            "\n",
            "model = make_pipeline(StandardScaler(with_mean=False), Lasso())\n",
            "\n",
            "If you wish to pass a sample_weight parameter, you need to pass it as a fit parameter to each step of the pipeline as follows:\n",
            "\n",
            "kwargs = {s[0] + '__sample_weight': sample_weight for s in model.steps}\n",
            "model.fit(X, y, **kwargs)\n",
            "\n",
            "Set parameter alpha to: original_alpha * np.sqrt(n_samples). \n",
            "  warnings.warn(\n",
            "/usr/local/lib/python3.8/dist-packages/sklearn/linear_model/_base.py:141: FutureWarning: 'normalize' was deprecated in version 1.0 and will be removed in 1.2.\n",
            "If you wish to scale the data, use Pipeline with a StandardScaler in a preprocessing stage. To reproduce the previous behavior:\n",
            "\n",
            "from sklearn.pipeline import make_pipeline\n",
            "\n",
            "model = make_pipeline(StandardScaler(with_mean=False), Lasso())\n",
            "\n",
            "If you wish to pass a sample_weight parameter, you need to pass it as a fit parameter to each step of the pipeline as follows:\n",
            "\n",
            "kwargs = {s[0] + '__sample_weight': sample_weight for s in model.steps}\n",
            "model.fit(X, y, **kwargs)\n",
            "\n",
            "Set parameter alpha to: original_alpha * np.sqrt(n_samples). \n",
            "  warnings.warn(\n",
            "/usr/local/lib/python3.8/dist-packages/sklearn/linear_model/_base.py:141: FutureWarning: 'normalize' was deprecated in version 1.0 and will be removed in 1.2.\n",
            "If you wish to scale the data, use Pipeline with a StandardScaler in a preprocessing stage. To reproduce the previous behavior:\n",
            "\n",
            "from sklearn.pipeline import make_pipeline\n",
            "\n",
            "model = make_pipeline(StandardScaler(with_mean=False), Lasso())\n",
            "\n",
            "If you wish to pass a sample_weight parameter, you need to pass it as a fit parameter to each step of the pipeline as follows:\n",
            "\n",
            "kwargs = {s[0] + '__sample_weight': sample_weight for s in model.steps}\n",
            "model.fit(X, y, **kwargs)\n",
            "\n",
            "Set parameter alpha to: original_alpha * np.sqrt(n_samples). \n",
            "  warnings.warn(\n",
            "/usr/local/lib/python3.8/dist-packages/sklearn/linear_model/_base.py:141: FutureWarning: 'normalize' was deprecated in version 1.0 and will be removed in 1.2.\n",
            "If you wish to scale the data, use Pipeline with a StandardScaler in a preprocessing stage. To reproduce the previous behavior:\n",
            "\n",
            "from sklearn.pipeline import make_pipeline\n",
            "\n",
            "model = make_pipeline(StandardScaler(with_mean=False), Lasso())\n",
            "\n",
            "If you wish to pass a sample_weight parameter, you need to pass it as a fit parameter to each step of the pipeline as follows:\n",
            "\n",
            "kwargs = {s[0] + '__sample_weight': sample_weight for s in model.steps}\n",
            "model.fit(X, y, **kwargs)\n",
            "\n",
            "Set parameter alpha to: original_alpha * np.sqrt(n_samples). \n",
            "  warnings.warn(\n",
            "/usr/local/lib/python3.8/dist-packages/sklearn/linear_model/_base.py:141: FutureWarning: 'normalize' was deprecated in version 1.0 and will be removed in 1.2.\n",
            "If you wish to scale the data, use Pipeline with a StandardScaler in a preprocessing stage. To reproduce the previous behavior:\n",
            "\n",
            "from sklearn.pipeline import make_pipeline\n",
            "\n",
            "model = make_pipeline(StandardScaler(with_mean=False), Lasso())\n",
            "\n",
            "If you wish to pass a sample_weight parameter, you need to pass it as a fit parameter to each step of the pipeline as follows:\n",
            "\n",
            "kwargs = {s[0] + '__sample_weight': sample_weight for s in model.steps}\n",
            "model.fit(X, y, **kwargs)\n",
            "\n",
            "Set parameter alpha to: original_alpha * np.sqrt(n_samples). \n",
            "  warnings.warn(\n"
          ]
        }
      ]
    },
    {
      "cell_type": "code",
      "source": [],
      "metadata": {
        "id": "cv78kKDyHTd5"
      },
      "execution_count": null,
      "outputs": []
    }
  ]
}